{
 "cells": [
  {
   "cell_type": "markdown",
   "metadata": {},
   "source": [
    "# Image Slicer\n",
    "A demo for identification of craters on the mars surface.\n",
    "## Datasets\n",
    "For a PoC purpose used the following two images for training, and one for testing.\n",
    "### Train\n",
    "1) https://photojournal.jpl.nasa.gov/catalog/PIA00179 <br>\n",
    "2) https://photojournal.jpl.nasa.gov/catalog/PIA00180 <br>\n",
    "### Test\n",
    "1) https://photojournal.jpl.nasa.gov/catalog/PIA00181 <br>\n",
    "For training the image was split into the 6 small image using the library - image_slicer\n",
    "For testing we again slice the .tiff image"
   ]
  },
  {
   "cell_type": "code",
   "execution_count": null,
   "metadata": {},
   "outputs": [],
   "source": [
    "# Imports\n",
    "from PIL import Image\n",
    "import numpy as np\n",
    "import image_slicer\n",
    "import os\n",
    "\n",
    "ROOT_DIR = os.path.abspath(\"../\")\n",
    "\n",
    "# Constants\n",
    "\n",
    "# Create the DIR if doesn't exist\n",
    "\n",
    "DATA_SOURCE_DIR_NAME = \"JPL_NASA\"\n",
    "\n",
    "RAW_IMAGE_DIR = os.path.join(ROOT_DIR, \"raw_data/\" + DATA_SOURCE_DIR_NAME + \"/\")\n",
    "TRAIN_IMAGE_DIR = os.path.join(ROOT_DIR, \"datasets/\" + DATA_SOURCE_DIR_NAME + \"/crater/train\")\n",
    "TEST_IMAGE_DIR = os.path.join(ROOT_DIR, \"datasets/\" + DATA_SOURCE_DIR_NAME + \"/crater/test\")\n"
   ]
  },
  {
   "cell_type": "code",
   "execution_count": null,
   "metadata": {},
   "outputs": [],
   "source": [
    "file_names = next(os.walk(IMAGE_DIR))[2]\n",
    "no_of_files = len(file_names)\n",
    "train = file_names[:-1]\n",
    "test = file_names[-1:]"
   ]
  },
  {
   "cell_type": "code",
   "execution_count": null,
   "metadata": {},
   "outputs": [],
   "source": [
    "data = [train, test]\n",
    "for i in data:\n",
    "    if i == train:\n",
    "        for j in i:\n",
    "            print(j)\n",
    "            split_tr = image_slicer.slice(IMAGE_DIR + j, 5, save=False)\n",
    "            image_slicer.save_tiles(split_tr, directory=TRAIN_IMAGE_DIR, prefix=str(j).split(\".\")[0])\n",
    "    else:\n",
    "        for j in i:\n",
    "            print(j)\n",
    "            split_te = image_slicer.slice(IMAGE_DIR + j, 5, save=False)\n",
    "            image_slicer.save_tiles(split_te, directory=TEST_IMAGE_DIR, prefix=str(j).split(\".\")[0])"
   ]
  }
 ],
 "metadata": {
  "kernelspec": {
   "display_name": "Python 3",
   "language": "python",
   "name": "python3"
  },
  "language_info": {
   "codemirror_mode": {
    "name": "ipython",
    "version": 3
   },
   "file_extension": ".py",
   "mimetype": "text/x-python",
   "name": "python",
   "nbconvert_exporter": "python",
   "pygments_lexer": "ipython3",
   "version": "3.5.2"
  }
 },
 "nbformat": 4,
 "nbformat_minor": 2
}
