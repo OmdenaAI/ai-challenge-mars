{
  "nbformat": 4,
  "nbformat_minor": 0,
  "metadata": {
    "colab": {
      "name": "Mask_RCNN_Training",
      "version": "0.3.2",
      "provenance": [],
      "collapsed_sections": []
    },
    "kernelspec": {
      "name": "python3",
      "display_name": "Python 3"
    },
    "accelerator": "GPU"
  },
  "cells": [
    {
      "cell_type": "code",
      "metadata": {
        "id": "Mk6kK5nX9uVx",
        "colab_type": "code",
        "colab": {}
      },
      "source": [
        "from google.colab import drive\n",
        "drive.mount('/content/drive')"
      ],
      "execution_count": 0,
      "outputs": []
    },
    {
      "cell_type": "code",
      "metadata": {
        "id": "mFm3KbIP9xos",
        "colab_type": "code",
        "outputId": "73399040-4929-4e5e-c4ad-d421ab120aea",
        "colab": {
          "base_uri": "https://localhost:8080/",
          "height": 34
        }
      },
      "source": [
        "cd drive/My\\ Drive"
      ],
      "execution_count": 0,
      "outputs": [
        {
          "output_type": "stream",
          "text": [
            "/content/drive/My Drive\n"
          ],
          "name": "stdout"
        }
      ]
    },
    {
      "cell_type": "code",
      "metadata": {
        "id": "CaooRfpA-A5d",
        "colab_type": "code",
        "outputId": "172d111f-bcdc-4031-e1b9-d5fa4acde682",
        "colab": {
          "base_uri": "https://localhost:8080/",
          "height": 34
        }
      },
      "source": [
        "cd Colab\\ Notebooks"
      ],
      "execution_count": 0,
      "outputs": [
        {
          "output_type": "stream",
          "text": [
            "/content/drive/My Drive/Colab Notebooks\n"
          ],
          "name": "stdout"
        }
      ]
    },
    {
      "cell_type": "code",
      "metadata": {
        "id": "4a6oAQNG-EgA",
        "colab_type": "code",
        "outputId": "daaa7473-62ff-449b-f0f6-46331a77913c",
        "colab": {
          "base_uri": "https://localhost:8080/",
          "height": 34
        }
      },
      "source": [
        "cd Mask_RCNN/"
      ],
      "execution_count": 0,
      "outputs": [
        {
          "output_type": "stream",
          "text": [
            "/content/drive/My Drive/Colab Notebooks/Mask_RCNN\n"
          ],
          "name": "stdout"
        }
      ]
    },
    {
      "cell_type": "code",
      "metadata": {
        "id": "aWQrHObw-Hqb",
        "colab_type": "code",
        "outputId": "46e0fa03-4372-4bed-80f4-35a7093ea5e4",
        "colab": {
          "base_uri": "https://localhost:8080/",
          "height": 1600
        }
      },
      "source": [
        "!pip install -r requirements.txt"
      ],
      "execution_count": 0,
      "outputs": [
        {
          "output_type": "stream",
          "text": [
            "Requirement already satisfied: numpy in /usr/local/lib/python3.6/dist-packages (from -r requirements.txt (line 1)) (1.16.4)\n",
            "Requirement already satisfied: scipy in /usr/local/lib/python3.6/dist-packages (from -r requirements.txt (line 2)) (1.3.0)\n",
            "Requirement already satisfied: Pillow in /usr/local/lib/python3.6/dist-packages (from -r requirements.txt (line 3)) (4.3.0)\n",
            "Requirement already satisfied: cython in /usr/local/lib/python3.6/dist-packages (from -r requirements.txt (line 4)) (0.29.9)\n",
            "Requirement already satisfied: matplotlib in /usr/local/lib/python3.6/dist-packages (from -r requirements.txt (line 5)) (3.0.3)\n",
            "Requirement already satisfied: scikit-image in /usr/local/lib/python3.6/dist-packages (from -r requirements.txt (line 6)) (0.15.0)\n",
            "Requirement already satisfied: tensorflow>=1.3.0 in /usr/local/lib/python3.6/dist-packages (from -r requirements.txt (line 7)) (1.13.1)\n",
            "Requirement already satisfied: keras>=2.0.8 in /usr/local/lib/python3.6/dist-packages (from -r requirements.txt (line 8)) (2.2.4)\n",
            "Requirement already satisfied: opencv-python in /usr/local/lib/python3.6/dist-packages (from -r requirements.txt (line 9)) (3.4.5.20)\n",
            "Requirement already satisfied: h5py in /usr/local/lib/python3.6/dist-packages (from -r requirements.txt (line 10)) (2.8.0)\n",
            "Requirement already satisfied: imgaug in /usr/local/lib/python3.6/dist-packages (from -r requirements.txt (line 11)) (0.2.9)\n",
            "Requirement already satisfied: IPython[all] in /usr/local/lib/python3.6/dist-packages (from -r requirements.txt (line 12)) (5.5.0)\n",
            "Requirement already satisfied: olefile in /usr/local/lib/python3.6/dist-packages (from Pillow->-r requirements.txt (line 3)) (0.46)\n",
            "Requirement already satisfied: pyparsing!=2.0.4,!=2.1.2,!=2.1.6,>=2.0.1 in /usr/local/lib/python3.6/dist-packages (from matplotlib->-r requirements.txt (line 5)) (2.4.0)\n",
            "Requirement already satisfied: python-dateutil>=2.1 in /usr/local/lib/python3.6/dist-packages (from matplotlib->-r requirements.txt (line 5)) (2.5.3)\n",
            "Requirement already satisfied: kiwisolver>=1.0.1 in /usr/local/lib/python3.6/dist-packages (from matplotlib->-r requirements.txt (line 5)) (1.1.0)\n",
            "Requirement already satisfied: cycler>=0.10 in /usr/local/lib/python3.6/dist-packages (from matplotlib->-r requirements.txt (line 5)) (0.10.0)\n",
            "Requirement already satisfied: PyWavelets>=0.4.0 in /usr/local/lib/python3.6/dist-packages (from scikit-image->-r requirements.txt (line 6)) (1.0.3)\n",
            "Requirement already satisfied: imageio>=2.0.1 in /usr/local/lib/python3.6/dist-packages (from scikit-image->-r requirements.txt (line 6)) (2.4.1)\n",
            "Requirement already satisfied: networkx>=2.0 in /usr/local/lib/python3.6/dist-packages (from scikit-image->-r requirements.txt (line 6)) (2.3)\n",
            "Requirement already satisfied: tensorflow-estimator<1.14.0rc0,>=1.13.0 in /usr/local/lib/python3.6/dist-packages (from tensorflow>=1.3.0->-r requirements.txt (line 7)) (1.13.0)\n",
            "Requirement already satisfied: six>=1.10.0 in /usr/local/lib/python3.6/dist-packages (from tensorflow>=1.3.0->-r requirements.txt (line 7)) (1.12.0)\n",
            "Requirement already satisfied: wheel>=0.26 in /usr/local/lib/python3.6/dist-packages (from tensorflow>=1.3.0->-r requirements.txt (line 7)) (0.33.4)\n",
            "Requirement already satisfied: keras-preprocessing>=1.0.5 in /usr/local/lib/python3.6/dist-packages (from tensorflow>=1.3.0->-r requirements.txt (line 7)) (1.0.9)\n",
            "Requirement already satisfied: astor>=0.6.0 in /usr/local/lib/python3.6/dist-packages (from tensorflow>=1.3.0->-r requirements.txt (line 7)) (0.8.0)\n",
            "Requirement already satisfied: termcolor>=1.1.0 in /usr/local/lib/python3.6/dist-packages (from tensorflow>=1.3.0->-r requirements.txt (line 7)) (1.1.0)\n",
            "Requirement already satisfied: absl-py>=0.1.6 in /usr/local/lib/python3.6/dist-packages (from tensorflow>=1.3.0->-r requirements.txt (line 7)) (0.7.1)\n",
            "Requirement already satisfied: tensorboard<1.14.0,>=1.13.0 in /usr/local/lib/python3.6/dist-packages (from tensorflow>=1.3.0->-r requirements.txt (line 7)) (1.13.1)\n",
            "Requirement already satisfied: grpcio>=1.8.6 in /usr/local/lib/python3.6/dist-packages (from tensorflow>=1.3.0->-r requirements.txt (line 7)) (1.15.0)\n",
            "Requirement already satisfied: keras-applications>=1.0.6 in /usr/local/lib/python3.6/dist-packages (from tensorflow>=1.3.0->-r requirements.txt (line 7)) (1.0.7)\n",
            "Requirement already satisfied: protobuf>=3.6.1 in /usr/local/lib/python3.6/dist-packages (from tensorflow>=1.3.0->-r requirements.txt (line 7)) (3.7.1)\n",
            "Requirement already satisfied: gast>=0.2.0 in /usr/local/lib/python3.6/dist-packages (from tensorflow>=1.3.0->-r requirements.txt (line 7)) (0.2.2)\n",
            "Requirement already satisfied: pyyaml in /usr/local/lib/python3.6/dist-packages (from keras>=2.0.8->-r requirements.txt (line 8)) (3.13)\n",
            "Requirement already satisfied: Shapely in /usr/local/lib/python3.6/dist-packages (from imgaug->-r requirements.txt (line 11)) (1.6.4.post2)\n",
            "Requirement already satisfied: traitlets>=4.2 in /usr/local/lib/python3.6/dist-packages (from IPython[all]->-r requirements.txt (line 12)) (4.3.2)\n",
            "Requirement already satisfied: pickleshare in /usr/local/lib/python3.6/dist-packages (from IPython[all]->-r requirements.txt (line 12)) (0.7.5)\n",
            "Requirement already satisfied: pygments in /usr/local/lib/python3.6/dist-packages (from IPython[all]->-r requirements.txt (line 12)) (2.1.3)\n",
            "Requirement already satisfied: pexpect; sys_platform != \"win32\" in /usr/local/lib/python3.6/dist-packages (from IPython[all]->-r requirements.txt (line 12)) (4.7.0)\n",
            "Requirement already satisfied: simplegeneric>0.8 in /usr/local/lib/python3.6/dist-packages (from IPython[all]->-r requirements.txt (line 12)) (0.8.1)\n",
            "Requirement already satisfied: decorator in /usr/local/lib/python3.6/dist-packages (from IPython[all]->-r requirements.txt (line 12)) (4.4.0)\n",
            "Requirement already satisfied: setuptools>=18.5 in /usr/local/lib/python3.6/dist-packages (from IPython[all]->-r requirements.txt (line 12)) (41.0.1)\n",
            "Requirement already satisfied: prompt-toolkit<2.0.0,>=1.0.4 in /usr/local/lib/python3.6/dist-packages (from IPython[all]->-r requirements.txt (line 12)) (1.0.16)\n",
            "Requirement already satisfied: Sphinx>=1.3; extra == \"all\" in /usr/local/lib/python3.6/dist-packages (from IPython[all]->-r requirements.txt (line 12)) (1.8.5)\n",
            "Requirement already satisfied: testpath; extra == \"all\" in /usr/local/lib/python3.6/dist-packages (from IPython[all]->-r requirements.txt (line 12)) (0.4.2)\n",
            "Requirement already satisfied: nbformat; extra == \"all\" in /usr/local/lib/python3.6/dist-packages (from IPython[all]->-r requirements.txt (line 12)) (4.4.0)\n",
            "Requirement already satisfied: nbconvert; extra == \"all\" in /usr/local/lib/python3.6/dist-packages (from IPython[all]->-r requirements.txt (line 12)) (5.5.0)\n",
            "Requirement already satisfied: ipywidgets; extra == \"all\" in /usr/local/lib/python3.6/dist-packages (from IPython[all]->-r requirements.txt (line 12)) (7.4.2)\n",
            "Collecting ipyparallel; extra == \"all\" (from IPython[all]->-r requirements.txt (line 12))\n",
            "\u001b[?25l  Downloading https://files.pythonhosted.org/packages/3f/82/aaa7a357845a98d4028f27c799f0d3bb2fe55fc1247c73dc712b4ae2344c/ipyparallel-6.2.4-py2.py3-none-any.whl (198kB)\n",
            "\u001b[K     |████████████████████████████████| 204kB 3.4MB/s \n",
            "\u001b[?25hRequirement already satisfied: nose>=0.10.1; extra == \"all\" in /usr/local/lib/python3.6/dist-packages (from IPython[all]->-r requirements.txt (line 12)) (1.3.7)\n",
            "Requirement already satisfied: notebook; extra == \"all\" in /usr/local/lib/python3.6/dist-packages (from IPython[all]->-r requirements.txt (line 12)) (5.2.2)\n",
            "Requirement already satisfied: requests; extra == \"all\" in /usr/local/lib/python3.6/dist-packages (from IPython[all]->-r requirements.txt (line 12)) (2.21.0)\n",
            "Requirement already satisfied: qtconsole; extra == \"all\" in /usr/local/lib/python3.6/dist-packages (from IPython[all]->-r requirements.txt (line 12)) (4.5.1)\n",
            "Requirement already satisfied: ipykernel; extra == \"all\" in /usr/local/lib/python3.6/dist-packages (from IPython[all]->-r requirements.txt (line 12)) (4.6.1)\n",
            "Requirement already satisfied: mock>=2.0.0 in /usr/local/lib/python3.6/dist-packages (from tensorflow-estimator<1.14.0rc0,>=1.13.0->tensorflow>=1.3.0->-r requirements.txt (line 7)) (3.0.5)\n",
            "Requirement already satisfied: werkzeug>=0.11.15 in /usr/local/lib/python3.6/dist-packages (from tensorboard<1.14.0,>=1.13.0->tensorflow>=1.3.0->-r requirements.txt (line 7)) (0.15.4)\n",
            "Requirement already satisfied: markdown>=2.6.8 in /usr/local/lib/python3.6/dist-packages (from tensorboard<1.14.0,>=1.13.0->tensorflow>=1.3.0->-r requirements.txt (line 7)) (3.1.1)\n",
            "Requirement already satisfied: ipython-genutils in /usr/local/lib/python3.6/dist-packages (from traitlets>=4.2->IPython[all]->-r requirements.txt (line 12)) (0.2.0)\n",
            "Requirement already satisfied: ptyprocess>=0.5 in /usr/local/lib/python3.6/dist-packages (from pexpect; sys_platform != \"win32\"->IPython[all]->-r requirements.txt (line 12)) (0.6.0)\n",
            "Requirement already satisfied: wcwidth in /usr/local/lib/python3.6/dist-packages (from prompt-toolkit<2.0.0,>=1.0.4->IPython[all]->-r requirements.txt (line 12)) (0.1.7)\n",
            "Requirement already satisfied: imagesize in /usr/local/lib/python3.6/dist-packages (from Sphinx>=1.3; extra == \"all\"->IPython[all]->-r requirements.txt (line 12)) (1.1.0)\n",
            "Requirement already satisfied: packaging in /usr/local/lib/python3.6/dist-packages (from Sphinx>=1.3; extra == \"all\"->IPython[all]->-r requirements.txt (line 12)) (19.0)\n",
            "Requirement already satisfied: sphinxcontrib-websupport in /usr/local/lib/python3.6/dist-packages (from Sphinx>=1.3; extra == \"all\"->IPython[all]->-r requirements.txt (line 12)) (1.1.2)\n",
            "Requirement already satisfied: snowballstemmer>=1.1 in /usr/local/lib/python3.6/dist-packages (from Sphinx>=1.3; extra == \"all\"->IPython[all]->-r requirements.txt (line 12)) (1.2.1)\n",
            "Requirement already satisfied: Jinja2>=2.3 in /usr/local/lib/python3.6/dist-packages (from Sphinx>=1.3; extra == \"all\"->IPython[all]->-r requirements.txt (line 12)) (2.10.1)\n",
            "Requirement already satisfied: docutils>=0.11 in /usr/local/lib/python3.6/dist-packages (from Sphinx>=1.3; extra == \"all\"->IPython[all]->-r requirements.txt (line 12)) (0.14)\n",
            "Requirement already satisfied: babel!=2.0,>=1.3 in /usr/local/lib/python3.6/dist-packages (from Sphinx>=1.3; extra == \"all\"->IPython[all]->-r requirements.txt (line 12)) (2.7.0)\n",
            "Requirement already satisfied: alabaster<0.8,>=0.7 in /usr/local/lib/python3.6/dist-packages (from Sphinx>=1.3; extra == \"all\"->IPython[all]->-r requirements.txt (line 12)) (0.7.12)\n",
            "Requirement already satisfied: jsonschema!=2.5.0,>=2.4 in /usr/local/lib/python3.6/dist-packages (from nbformat; extra == \"all\"->IPython[all]->-r requirements.txt (line 12)) (2.6.0)\n",
            "Requirement already satisfied: jupyter-core in /usr/local/lib/python3.6/dist-packages (from nbformat; extra == \"all\"->IPython[all]->-r requirements.txt (line 12)) (4.4.0)\n",
            "Requirement already satisfied: pandocfilters>=1.4.1 in /usr/local/lib/python3.6/dist-packages (from nbconvert; extra == \"all\"->IPython[all]->-r requirements.txt (line 12)) (1.4.2)\n",
            "Requirement already satisfied: mistune>=0.8.1 in /usr/local/lib/python3.6/dist-packages (from nbconvert; extra == \"all\"->IPython[all]->-r requirements.txt (line 12)) (0.8.4)\n",
            "Requirement already satisfied: defusedxml in /usr/local/lib/python3.6/dist-packages (from nbconvert; extra == \"all\"->IPython[all]->-r requirements.txt (line 12)) (0.6.0)\n",
            "Requirement already satisfied: bleach in /usr/local/lib/python3.6/dist-packages (from nbconvert; extra == \"all\"->IPython[all]->-r requirements.txt (line 12)) (3.1.0)\n",
            "Requirement already satisfied: entrypoints>=0.2.2 in /usr/local/lib/python3.6/dist-packages (from nbconvert; extra == \"all\"->IPython[all]->-r requirements.txt (line 12)) (0.3)\n",
            "Requirement already satisfied: widgetsnbextension~=3.4.0 in /usr/local/lib/python3.6/dist-packages (from ipywidgets; extra == \"all\"->IPython[all]->-r requirements.txt (line 12)) (3.4.2)\n",
            "Requirement already satisfied: jupyter-client in /usr/local/lib/python3.6/dist-packages (from ipyparallel; extra == \"all\"->IPython[all]->-r requirements.txt (line 12)) (5.2.4)\n",
            "Requirement already satisfied: pyzmq>=13 in /usr/local/lib/python3.6/dist-packages (from ipyparallel; extra == \"all\"->IPython[all]->-r requirements.txt (line 12)) (17.0.0)\n",
            "Requirement already satisfied: tornado>=4 in /usr/local/lib/python3.6/dist-packages (from ipyparallel; extra == \"all\"->IPython[all]->-r requirements.txt (line 12)) (4.5.3)\n",
            "Requirement already satisfied: terminado>=0.3.3; sys_platform != \"win32\" in /usr/local/lib/python3.6/dist-packages (from notebook; extra == \"all\"->IPython[all]->-r requirements.txt (line 12)) (0.8.2)\n",
            "Requirement already satisfied: chardet<3.1.0,>=3.0.2 in /usr/local/lib/python3.6/dist-packages (from requests; extra == \"all\"->IPython[all]->-r requirements.txt (line 12)) (3.0.4)\n",
            "Requirement already satisfied: urllib3<1.25,>=1.21.1 in /usr/local/lib/python3.6/dist-packages (from requests; extra == \"all\"->IPython[all]->-r requirements.txt (line 12)) (1.24.3)\n",
            "Requirement already satisfied: certifi>=2017.4.17 in /usr/local/lib/python3.6/dist-packages (from requests; extra == \"all\"->IPython[all]->-r requirements.txt (line 12)) (2019.3.9)\n",
            "Requirement already satisfied: idna<2.9,>=2.5 in /usr/local/lib/python3.6/dist-packages (from requests; extra == \"all\"->IPython[all]->-r requirements.txt (line 12)) (2.8)\n",
            "Requirement already satisfied: MarkupSafe>=0.23 in /usr/local/lib/python3.6/dist-packages (from Jinja2>=2.3->Sphinx>=1.3; extra == \"all\"->IPython[all]->-r requirements.txt (line 12)) (1.1.1)\n",
            "Requirement already satisfied: pytz>=2015.7 in /usr/local/lib/python3.6/dist-packages (from babel!=2.0,>=1.3->Sphinx>=1.3; extra == \"all\"->IPython[all]->-r requirements.txt (line 12)) (2018.9)\n",
            "Requirement already satisfied: webencodings in /usr/local/lib/python3.6/dist-packages (from bleach->nbconvert; extra == \"all\"->IPython[all]->-r requirements.txt (line 12)) (0.5.1)\n",
            "Installing collected packages: ipyparallel\n",
            "Successfully installed ipyparallel-6.2.4\n"
          ],
          "name": "stdout"
        }
      ]
    },
    {
      "cell_type": "code",
      "metadata": {
        "id": "_xVW3-TAEu5O",
        "colab_type": "code",
        "outputId": "c8650c37-c66a-40bc-f2ad-4cc3b1f0fb95",
        "colab": {
          "base_uri": "https://localhost:8080/",
          "height": 746
        }
      },
      "source": [
        "!python setup.py install"
      ],
      "execution_count": 0,
      "outputs": [
        {
          "output_type": "stream",
          "text": [
            "WARNING:root:Fail load requirements file, so using default ones.\n",
            "running install\n",
            "running bdist_egg\n",
            "running egg_info\n",
            "writing mask_rcnn.egg-info/PKG-INFO\n",
            "writing dependency_links to mask_rcnn.egg-info/dependency_links.txt\n",
            "writing top-level names to mask_rcnn.egg-info/top_level.txt\n",
            "reading manifest file 'mask_rcnn.egg-info/SOURCES.txt'\n",
            "reading manifest template 'MANIFEST.in'\n",
            "writing manifest file 'mask_rcnn.egg-info/SOURCES.txt'\n",
            "installing library code to build/bdist.linux-x86_64/egg\n",
            "running install_lib\n",
            "running build_py\n",
            "creating build/bdist.linux-x86_64/egg\n",
            "creating build/bdist.linux-x86_64/egg/mrcnn\n",
            "copying build/lib/mrcnn/utils.py -> build/bdist.linux-x86_64/egg/mrcnn\n",
            "copying build/lib/mrcnn/model.py -> build/bdist.linux-x86_64/egg/mrcnn\n",
            "copying build/lib/mrcnn/__init__.py -> build/bdist.linux-x86_64/egg/mrcnn\n",
            "copying build/lib/mrcnn/config.py -> build/bdist.linux-x86_64/egg/mrcnn\n",
            "copying build/lib/mrcnn/visualize.py -> build/bdist.linux-x86_64/egg/mrcnn\n",
            "copying build/lib/mrcnn/parallel_model.py -> build/bdist.linux-x86_64/egg/mrcnn\n",
            "byte-compiling build/bdist.linux-x86_64/egg/mrcnn/utils.py to utils.cpython-36.pyc\n",
            "byte-compiling build/bdist.linux-x86_64/egg/mrcnn/model.py to model.cpython-36.pyc\n",
            "byte-compiling build/bdist.linux-x86_64/egg/mrcnn/__init__.py to __init__.cpython-36.pyc\n",
            "byte-compiling build/bdist.linux-x86_64/egg/mrcnn/config.py to config.cpython-36.pyc\n",
            "byte-compiling build/bdist.linux-x86_64/egg/mrcnn/visualize.py to visualize.cpython-36.pyc\n",
            "byte-compiling build/bdist.linux-x86_64/egg/mrcnn/parallel_model.py to parallel_model.cpython-36.pyc\n",
            "creating build/bdist.linux-x86_64/egg/EGG-INFO\n",
            "copying mask_rcnn.egg-info/PKG-INFO -> build/bdist.linux-x86_64/egg/EGG-INFO\n",
            "copying mask_rcnn.egg-info/SOURCES.txt -> build/bdist.linux-x86_64/egg/EGG-INFO\n",
            "copying mask_rcnn.egg-info/dependency_links.txt -> build/bdist.linux-x86_64/egg/EGG-INFO\n",
            "copying mask_rcnn.egg-info/top_level.txt -> build/bdist.linux-x86_64/egg/EGG-INFO\n",
            "zip_safe flag not set; analyzing archive contents...\n",
            "creating 'dist/mask_rcnn-2.1-py3.6.egg' and adding 'build/bdist.linux-x86_64/egg' to it\n",
            "removing 'build/bdist.linux-x86_64/egg' (and everything under it)\n",
            "Processing mask_rcnn-2.1-py3.6.egg\n",
            "Copying mask_rcnn-2.1-py3.6.egg to /usr/local/lib/python3.6/dist-packages\n",
            "Adding mask-rcnn 2.1 to easy-install.pth file\n",
            "\n",
            "Installed /usr/local/lib/python3.6/dist-packages/mask_rcnn-2.1-py3.6.egg\n",
            "Processing dependencies for mask-rcnn==2.1\n",
            "Finished processing dependencies for mask-rcnn==2.1\n"
          ],
          "name": "stdout"
        }
      ]
    },
    {
      "cell_type": "code",
      "metadata": {
        "id": "VOCzcxyVlT7p",
        "colab_type": "code",
        "colab": {}
      },
      "source": [
        ""
      ],
      "execution_count": 0,
      "outputs": []
    },
    {
      "cell_type": "code",
      "metadata": {
        "id": "F3QACknH-aZK",
        "colab_type": "code",
        "outputId": "fe78646e-d428-4ce1-b427-42a7cf8fa9ca",
        "colab": {
          "base_uri": "https://localhost:8080/",
          "height": 3267
        }
      },
      "source": [
        "!python samples/crater/crater.py train --dataset=datasets/crater/ --weights=coco"
      ],
      "execution_count": 0,
      "outputs": [
        {
          "output_type": "stream",
          "text": [
            "Using TensorFlow backend.\n",
            "Weights:  coco\n",
            "Dataset:  datasets/crater/\n",
            "Logs:  /content/drive/My Drive/logs\n",
            "\n",
            "Configurations:\n",
            "BACKBONE                       resnet101\n",
            "BACKBONE_STRIDES               [4, 8, 16, 32, 64]\n",
            "BATCH_SIZE                     2\n",
            "BBOX_STD_DEV                   [0.1 0.1 0.2 0.2]\n",
            "COMPUTE_BACKBONE_SHAPE         None\n",
            "DETECTION_MAX_INSTANCES        100\n",
            "DETECTION_MIN_CONFIDENCE       0.9\n",
            "DETECTION_NMS_THRESHOLD        0.3\n",
            "FPN_CLASSIF_FC_LAYERS_SIZE     1024\n",
            "GPU_COUNT                      1\n",
            "GRADIENT_CLIP_NORM             5.0\n",
            "IMAGES_PER_GPU                 2\n",
            "IMAGE_CHANNEL_COUNT            3\n",
            "IMAGE_MAX_DIM                  1024\n",
            "IMAGE_META_SIZE                14\n",
            "IMAGE_MIN_DIM                  800\n",
            "IMAGE_MIN_SCALE                0\n",
            "IMAGE_RESIZE_MODE              square\n",
            "IMAGE_SHAPE                    [1024 1024    3]\n",
            "LEARNING_MOMENTUM              0.9\n",
            "LEARNING_RATE                  0.001\n",
            "LOSS_WEIGHTS                   {'rpn_class_loss': 1.0, 'rpn_bbox_loss': 1.0, 'mrcnn_class_loss': 1.0, 'mrcnn_bbox_loss': 1.0, 'mrcnn_mask_loss': 1.0}\n",
            "MASK_POOL_SIZE                 14\n",
            "MASK_SHAPE                     [28, 28]\n",
            "MAX_GT_INSTANCES               100\n",
            "MEAN_PIXEL                     [123.7 116.8 103.9]\n",
            "MINI_MASK_SHAPE                (56, 56)\n",
            "NAME                           crater\n",
            "NUM_CLASSES                    2\n",
            "POOL_SIZE                      7\n",
            "POST_NMS_ROIS_INFERENCE        1000\n",
            "POST_NMS_ROIS_TRAINING         2000\n",
            "PRE_NMS_LIMIT                  6000\n",
            "ROI_POSITIVE_RATIO             0.33\n",
            "RPN_ANCHOR_RATIOS              [0.5, 1, 2]\n",
            "RPN_ANCHOR_SCALES              (32, 64, 128, 256, 512)\n",
            "RPN_ANCHOR_STRIDE              1\n",
            "RPN_BBOX_STD_DEV               [0.1 0.1 0.2 0.2]\n",
            "RPN_NMS_THRESHOLD              0.7\n",
            "RPN_TRAIN_ANCHORS_PER_IMAGE    256\n",
            "STEPS_PER_EPOCH                100\n",
            "TOP_DOWN_PYRAMID_SIZE          256\n",
            "TRAIN_BN                       False\n",
            "TRAIN_ROIS_PER_IMAGE           200\n",
            "USE_MINI_MASK                  True\n",
            "USE_RPN_ROIS                   True\n",
            "VALIDATION_STEPS               50\n",
            "WEIGHT_DECAY                   0.0001\n",
            "\n",
            "\n",
            "WARNING:tensorflow:From /usr/local/lib/python3.6/dist-packages/tensorflow/python/framework/op_def_library.py:263: colocate_with (from tensorflow.python.framework.ops) is deprecated and will be removed in a future version.\n",
            "Instructions for updating:\n",
            "Colocations handled automatically by placer.\n",
            "Loading weights  /content/drive/My Drive/mask_rcnn_coco.h5\n",
            "2019-06-03 05:30:46.150319: I tensorflow/core/platform/profile_utils/cpu_utils.cc:94] CPU Frequency: 2300000000 Hz\n",
            "2019-06-03 05:30:46.150677: I tensorflow/compiler/xla/service/service.cc:150] XLA service 0x179dc520 executing computations on platform Host. Devices:\n",
            "2019-06-03 05:30:46.150711: I tensorflow/compiler/xla/service/service.cc:158]   StreamExecutor device (0): <undefined>, <undefined>\n",
            "2019-06-03 05:30:46.416050: I tensorflow/stream_executor/cuda/cuda_gpu_executor.cc:998] successful NUMA node read from SysFS had negative value (-1), but there must be at least one NUMA node, so returning NUMA node zero\n",
            "2019-06-03 05:30:46.416599: I tensorflow/compiler/xla/service/service.cc:150] XLA service 0x179dc7e0 executing computations on platform CUDA. Devices:\n",
            "2019-06-03 05:30:46.416629: I tensorflow/compiler/xla/service/service.cc:158]   StreamExecutor device (0): Tesla T4, Compute Capability 7.5\n",
            "2019-06-03 05:30:46.417001: I tensorflow/core/common_runtime/gpu/gpu_device.cc:1433] Found device 0 with properties: \n",
            "name: Tesla T4 major: 7 minor: 5 memoryClockRate(GHz): 1.59\n",
            "pciBusID: 0000:00:04.0\n",
            "totalMemory: 14.73GiB freeMemory: 14.60GiB\n",
            "2019-06-03 05:30:46.417030: I tensorflow/core/common_runtime/gpu/gpu_device.cc:1512] Adding visible gpu devices: 0\n",
            "2019-06-03 05:30:47.852591: I tensorflow/core/common_runtime/gpu/gpu_device.cc:984] Device interconnect StreamExecutor with strength 1 edge matrix:\n",
            "2019-06-03 05:30:47.852663: I tensorflow/core/common_runtime/gpu/gpu_device.cc:990]      0 \n",
            "2019-06-03 05:30:47.852676: I tensorflow/core/common_runtime/gpu/gpu_device.cc:1003] 0:   N \n",
            "2019-06-03 05:30:47.852956: W tensorflow/core/common_runtime/gpu/gpu_bfc_allocator.cc:42] Overriding allow_growth setting because the TF_FORCE_GPU_ALLOW_GROWTH environment variable is set. Original config value was 0.\n",
            "2019-06-03 05:30:47.853041: I tensorflow/core/common_runtime/gpu/gpu_device.cc:1115] Created TensorFlow device (/job:localhost/replica:0/task:0/device:GPU:0 with 14115 MB memory) -> physical GPU (device: 0, name: Tesla T4, pci bus id: 0000:00:04.0, compute capability: 7.5)\n",
            "Training network heads\n",
            "\n",
            "Starting at epoch 0. LR=0.001\n",
            "\n",
            "Checkpoint Path: /content/drive/My Drive/logs/crater20190603T0530/mask_rcnn_crater_{epoch:04d}.h5\n",
            "Selecting layers to train\n",
            "fpn_c5p5               (Conv2D)\n",
            "fpn_c4p4               (Conv2D)\n",
            "fpn_c3p3               (Conv2D)\n",
            "fpn_c2p2               (Conv2D)\n",
            "fpn_p5                 (Conv2D)\n",
            "fpn_p2                 (Conv2D)\n",
            "fpn_p3                 (Conv2D)\n",
            "fpn_p4                 (Conv2D)\n",
            "In model:  rpn_model\n",
            "    rpn_conv_shared        (Conv2D)\n",
            "    rpn_class_raw          (Conv2D)\n",
            "    rpn_bbox_pred          (Conv2D)\n",
            "mrcnn_mask_conv1       (TimeDistributed)\n",
            "mrcnn_mask_bn1         (TimeDistributed)\n",
            "mrcnn_mask_conv2       (TimeDistributed)\n",
            "mrcnn_mask_bn2         (TimeDistributed)\n",
            "mrcnn_class_conv1      (TimeDistributed)\n",
            "mrcnn_class_bn1        (TimeDistributed)\n",
            "mrcnn_mask_conv3       (TimeDistributed)\n",
            "mrcnn_mask_bn3         (TimeDistributed)\n",
            "mrcnn_class_conv2      (TimeDistributed)\n",
            "mrcnn_class_bn2        (TimeDistributed)\n",
            "mrcnn_mask_conv4       (TimeDistributed)\n",
            "mrcnn_mask_bn4         (TimeDistributed)\n",
            "mrcnn_bbox_fc          (TimeDistributed)\n",
            "mrcnn_mask_deconv      (TimeDistributed)\n",
            "mrcnn_class_logits     (TimeDistributed)\n",
            "mrcnn_mask             (TimeDistributed)\n",
            "WARNING:tensorflow:From /usr/local/lib/python3.6/dist-packages/tensorflow/python/ops/math_ops.py:3066: to_int32 (from tensorflow.python.ops.math_ops) is deprecated and will be removed in a future version.\n",
            "Instructions for updating:\n",
            "Use tf.cast instead.\n",
            "/usr/local/lib/python3.6/dist-packages/tensorflow/python/ops/gradients_impl.py:110: UserWarning: Converting sparse IndexedSlices to a dense Tensor of unknown shape. This may consume a large amount of memory.\n",
            "  \"Converting sparse IndexedSlices to a dense Tensor of unknown shape. \"\n",
            "/usr/local/lib/python3.6/dist-packages/keras/engine/training_generator.py:47: UserWarning: Using a generator with `use_multiprocessing=True` and multiple workers may duplicate your data. Please consider using the`keras.utils.Sequence class.\n",
            "  UserWarning('Using a generator with `use_multiprocessing=True`'\n",
            "Epoch 1/30\n",
            "2019-06-03 05:31:38.843894: W ./tensorflow/core/grappler/optimizers/graph_optimizer_stage.h:241] Failed to run optimizer ArithmeticOptimizer, stage RemoveStackStridedSliceSameAxis node proposal_targets/strided_slice. Error: ValidateStridedSliceOp returned partial shapes [1,?,?] and [?,?]\n",
            "2019-06-03 05:31:38.844116: W ./tensorflow/core/grappler/optimizers/graph_optimizer_stage.h:241] Failed to run optimizer ArithmeticOptimizer, stage RemoveStackStridedSliceSameAxis node proposal_targets/strided_slice_37. Error: ValidateStridedSliceOp returned partial shapes [1,?,?] and [?,?]\n",
            "2019-06-03 05:31:49.792612: W ./tensorflow/core/grappler/optimizers/graph_optimizer_stage.h:241] Failed to run optimizer ArithmeticOptimizer, stage RemoveStackStridedSliceSameAxis node proposal_targets/strided_slice. Error: ValidateStridedSliceOp returned partial shapes [1,?,?] and [?,?]\n",
            "2019-06-03 05:31:49.802261: W ./tensorflow/core/grappler/optimizers/graph_optimizer_stage.h:241] Failed to run optimizer ArithmeticOptimizer, stage RemoveStackStridedSliceSameAxis node proposal_targets/strided_slice_37. Error: ValidateStridedSliceOp returned partial shapes [1,?,?] and [?,?]\n",
            "2019-06-03 05:31:53.637906: I tensorflow/stream_executor/dso_loader.cc:152] successfully opened CUDA library libcublas.so.10.0 locally\n",
            " 99/100 [============================>.] - ETA: 5s - loss: 1.3118 - rpn_class_loss: 0.1311 - rpn_bbox_loss: 0.1619 - mrcnn_class_loss: 0.3121 - mrcnn_bbox_loss: 0.2402 - mrcnn_mask_loss: 0.4664 2019-06-03 05:40:52.149107: W ./tensorflow/core/grappler/optimizers/graph_optimizer_stage.h:241] Failed to run optimizer ArithmeticOptimizer, stage RemoveStackStridedSliceSameAxis node proposal_targets/strided_slice. Error: ValidateStridedSliceOp returned partial shapes [1,?,?] and [?,?]\n",
            "2019-06-03 05:40:52.156291: W ./tensorflow/core/grappler/optimizers/graph_optimizer_stage.h:241] Failed to run optimizer ArithmeticOptimizer, stage RemoveStackStridedSliceSameAxis node proposal_targets/strided_slice_37. Error: ValidateStridedSliceOp returned partial shapes [1,?,?] and [?,?]\n",
            "2019-06-03 05:40:55.186957: W ./tensorflow/core/grappler/optimizers/graph_optimizer_stage.h:241] Failed to run optimizer ArithmeticOptimizer, stage RemoveStackStridedSliceSameAxis node proposal_targets/strided_slice. Error: ValidateStridedSliceOp returned partial shapes [1,?,?] and [?,?]\n",
            "2019-06-03 05:40:55.193241: W ./tensorflow/core/grappler/optimizers/graph_optimizer_stage.h:241] Failed to run optimizer ArithmeticOptimizer, stage RemoveStackStridedSliceSameAxis node proposal_targets/strided_slice_37. Error: ValidateStridedSliceOp returned partial shapes [1,?,?] and [?,?]\n",
            "100/100 [==============================] - 626s 6s/step - loss: 1.3071 - rpn_class_loss: 0.1304 - rpn_bbox_loss: 0.1614 - mrcnn_class_loss: 0.3112 - mrcnn_bbox_loss: 0.2386 - mrcnn_mask_loss: 0.4655 - val_loss: 1.5412 - val_rpn_class_loss: 0.1684 - val_rpn_bbox_loss: 0.2877 - val_mrcnn_class_loss: 0.4145 - val_mrcnn_bbox_loss: 0.2722 - val_mrcnn_mask_loss: 0.3984\n",
            "Epoch 2/30\n",
            "100/100 [==============================] - 249s 2s/step - loss: 0.6075 - rpn_class_loss: 0.0295 - rpn_bbox_loss: 0.0823 - mrcnn_class_loss: 0.1521 - mrcnn_bbox_loss: 0.0542 - mrcnn_mask_loss: 0.2894 - val_loss: 1.5571 - val_rpn_class_loss: 0.2144 - val_rpn_bbox_loss: 0.3142 - val_mrcnn_class_loss: 0.4739 - val_mrcnn_bbox_loss: 0.2791 - val_mrcnn_mask_loss: 0.2754\n",
            "Epoch 3/30\n",
            "100/100 [==============================] - 440s 4s/step - loss: 0.3891 - rpn_class_loss: 0.0179 - rpn_bbox_loss: 0.0526 - mrcnn_class_loss: 0.0894 - mrcnn_bbox_loss: 0.0256 - mrcnn_mask_loss: 0.2036 - val_loss: 1.8137 - val_rpn_class_loss: 0.2965 - val_rpn_bbox_loss: 0.3259 - val_mrcnn_class_loss: 0.6193 - val_mrcnn_bbox_loss: 0.2764 - val_mrcnn_mask_loss: 0.2955\n",
            "Epoch 4/30\n",
            "100/100 [==============================] - 435s 4s/step - loss: 0.3053 - rpn_class_loss: 0.0126 - rpn_bbox_loss: 0.0370 - mrcnn_class_loss: 0.0651 - mrcnn_bbox_loss: 0.0190 - mrcnn_mask_loss: 0.1716 - val_loss: 2.1475 - val_rpn_class_loss: 0.3348 - val_rpn_bbox_loss: 0.3333 - val_mrcnn_class_loss: 0.8808 - val_mrcnn_bbox_loss: 0.2901 - val_mrcnn_mask_loss: 0.3085\n",
            "Epoch 5/30\n",
            "100/100 [==============================] - 434s 4s/step - loss: 0.2598 - rpn_class_loss: 0.0104 - rpn_bbox_loss: 0.0283 - mrcnn_class_loss: 0.0529 - mrcnn_bbox_loss: 0.0182 - mrcnn_mask_loss: 0.1499 - val_loss: 2.0994 - val_rpn_class_loss: 0.3701 - val_rpn_bbox_loss: 0.3425 - val_mrcnn_class_loss: 0.7565 - val_mrcnn_bbox_loss: 0.2867 - val_mrcnn_mask_loss: 0.3436\n",
            "Epoch 6/30\n",
            "100/100 [==============================] - 440s 4s/step - loss: 0.2251 - rpn_class_loss: 0.0093 - rpn_bbox_loss: 0.0233 - mrcnn_class_loss: 0.0462 - mrcnn_bbox_loss: 0.0179 - mrcnn_mask_loss: 0.1285 - val_loss: 2.2020 - val_rpn_class_loss: 0.4050 - val_rpn_bbox_loss: 0.3441 - val_mrcnn_class_loss: 0.8143 - val_mrcnn_bbox_loss: 0.2703 - val_mrcnn_mask_loss: 0.3683\n",
            "Epoch 7/30\n",
            "100/100 [==============================] - 439s 4s/step - loss: 0.1866 - rpn_class_loss: 0.0087 - rpn_bbox_loss: 0.0184 - mrcnn_class_loss: 0.0364 - mrcnn_bbox_loss: 0.0099 - mrcnn_mask_loss: 0.1132 - val_loss: 2.5407 - val_rpn_class_loss: 0.4843 - val_rpn_bbox_loss: 0.3474 - val_mrcnn_class_loss: 0.9963 - val_mrcnn_bbox_loss: 0.2906 - val_mrcnn_mask_loss: 0.4221\n",
            "Epoch 8/30\n",
            "100/100 [==============================] - 442s 4s/step - loss: 0.1673 - rpn_class_loss: 0.0075 - rpn_bbox_loss: 0.0148 - mrcnn_class_loss: 0.0296 - mrcnn_bbox_loss: 0.0065 - mrcnn_mask_loss: 0.1089 - val_loss: 2.5859 - val_rpn_class_loss: 0.4536 - val_rpn_bbox_loss: 0.3483 - val_mrcnn_class_loss: 1.0176 - val_mrcnn_bbox_loss: 0.2767 - val_mrcnn_mask_loss: 0.4898\n",
            "Epoch 9/30\n",
            "100/100 [==============================] - 438s 4s/step - loss: 0.1505 - rpn_class_loss: 0.0054 - rpn_bbox_loss: 0.0122 - mrcnn_class_loss: 0.0245 - mrcnn_bbox_loss: 0.0045 - mrcnn_mask_loss: 0.1038 - val_loss: 2.6589 - val_rpn_class_loss: 0.5226 - val_rpn_bbox_loss: 0.3499 - val_mrcnn_class_loss: 1.0493 - val_mrcnn_bbox_loss: 0.2805 - val_mrcnn_mask_loss: 0.4567\n",
            "Epoch 10/30\n",
            "100/100 [==============================] - 432s 4s/step - loss: 0.1450 - rpn_class_loss: 0.0054 - rpn_bbox_loss: 0.0117 - mrcnn_class_loss: 0.0273 - mrcnn_bbox_loss: 0.0132 - mrcnn_mask_loss: 0.0875 - val_loss: 2.7563 - val_rpn_class_loss: 0.5954 - val_rpn_bbox_loss: 0.3552 - val_mrcnn_class_loss: 1.0425 - val_mrcnn_bbox_loss: 0.2658 - val_mrcnn_mask_loss: 0.4975\n",
            "Epoch 11/30\n",
            "100/100 [==============================] - 427s 4s/step - loss: 0.1355 - rpn_class_loss: 0.0052 - rpn_bbox_loss: 0.0097 - mrcnn_class_loss: 0.0255 - mrcnn_bbox_loss: 0.0064 - mrcnn_mask_loss: 0.0887 - val_loss: 2.7254 - val_rpn_class_loss: 0.6100 - val_rpn_bbox_loss: 0.3509 - val_mrcnn_class_loss: 0.9707 - val_mrcnn_bbox_loss: 0.2892 - val_mrcnn_mask_loss: 0.5046\n",
            "Epoch 12/30\n",
            "100/100 [==============================] - 426s 4s/step - loss: 0.1273 - rpn_class_loss: 0.0059 - rpn_bbox_loss: 0.0088 - mrcnn_class_loss: 0.0262 - mrcnn_bbox_loss: 0.0064 - mrcnn_mask_loss: 0.0800 - val_loss: 2.6970 - val_rpn_class_loss: 0.5604 - val_rpn_bbox_loss: 0.3494 - val_mrcnn_class_loss: 0.9886 - val_mrcnn_bbox_loss: 0.2798 - val_mrcnn_mask_loss: 0.5189\n",
            "Epoch 13/30\n",
            "100/100 [==============================] - 436s 4s/step - loss: 0.1205 - rpn_class_loss: 0.0054 - rpn_bbox_loss: 0.0074 - mrcnn_class_loss: 0.0207 - mrcnn_bbox_loss: 0.0042 - mrcnn_mask_loss: 0.0828 - val_loss: 2.9285 - val_rpn_class_loss: 0.6617 - val_rpn_bbox_loss: 0.3540 - val_mrcnn_class_loss: 1.1212 - val_mrcnn_bbox_loss: 0.2825 - val_mrcnn_mask_loss: 0.5090\n",
            "Epoch 14/30\n",
            "100/100 [==============================] - 432s 4s/step - loss: 0.1131 - rpn_class_loss: 0.0040 - rpn_bbox_loss: 0.0072 - mrcnn_class_loss: 0.0232 - mrcnn_bbox_loss: 0.0067 - mrcnn_mask_loss: 0.0719 - val_loss: 2.8521 - val_rpn_class_loss: 0.6603 - val_rpn_bbox_loss: 0.3528 - val_mrcnn_class_loss: 0.9727 - val_mrcnn_bbox_loss: 0.2859 - val_mrcnn_mask_loss: 0.5804\n",
            "Epoch 15/30\n",
            "100/100 [==============================] - 430s 4s/step - loss: 0.1089 - rpn_class_loss: 0.0051 - rpn_bbox_loss: 0.0061 - mrcnn_class_loss: 0.0219 - mrcnn_bbox_loss: 0.0058 - mrcnn_mask_loss: 0.0700 - val_loss: 2.9366 - val_rpn_class_loss: 0.7103 - val_rpn_bbox_loss: 0.3614 - val_mrcnn_class_loss: 1.0255 - val_mrcnn_bbox_loss: 0.2803 - val_mrcnn_mask_loss: 0.5590\n",
            "Epoch 16/30\n",
            "100/100 [==============================] - 432s 4s/step - loss: 0.1039 - rpn_class_loss: 0.0047 - rpn_bbox_loss: 0.0050 - mrcnn_class_loss: 0.0207 - mrcnn_bbox_loss: 0.0042 - mrcnn_mask_loss: 0.0692 - val_loss: 3.1320 - val_rpn_class_loss: 0.7815 - val_rpn_bbox_loss: 0.3624 - val_mrcnn_class_loss: 1.1241 - val_mrcnn_bbox_loss: 0.2831 - val_mrcnn_mask_loss: 0.5809\n",
            "Epoch 17/30\n",
            "100/100 [==============================] - 437s 4s/step - loss: 0.0953 - rpn_class_loss: 0.0039 - rpn_bbox_loss: 0.0045 - mrcnn_class_loss: 0.0194 - mrcnn_bbox_loss: 0.0034 - mrcnn_mask_loss: 0.0641 - val_loss: 3.2055 - val_rpn_class_loss: 0.7438 - val_rpn_bbox_loss: 0.3639 - val_mrcnn_class_loss: 1.2274 - val_mrcnn_bbox_loss: 0.2723 - val_mrcnn_mask_loss: 0.5980\n",
            "Epoch 18/30\n",
            "100/100 [==============================] - 429s 4s/step - loss: 0.0961 - rpn_class_loss: 0.0040 - rpn_bbox_loss: 0.0049 - mrcnn_class_loss: 0.0186 - mrcnn_bbox_loss: 0.0053 - mrcnn_mask_loss: 0.0633 - val_loss: 3.0662 - val_rpn_class_loss: 0.7909 - val_rpn_bbox_loss: 0.3658 - val_mrcnn_class_loss: 1.0656 - val_mrcnn_bbox_loss: 0.2605 - val_mrcnn_mask_loss: 0.5835\n",
            "Epoch 19/30\n",
            "100/100 [==============================] - 432s 4s/step - loss: 0.0928 - rpn_class_loss: 0.0036 - rpn_bbox_loss: 0.0045 - mrcnn_class_loss: 0.0206 - mrcnn_bbox_loss: 0.0044 - mrcnn_mask_loss: 0.0597 - val_loss: 3.4557 - val_rpn_class_loss: 0.8920 - val_rpn_bbox_loss: 0.3799 - val_mrcnn_class_loss: 1.2778 - val_mrcnn_bbox_loss: 0.2918 - val_mrcnn_mask_loss: 0.6142\n",
            "Epoch 20/30\n",
            "100/100 [==============================] - 436s 4s/step - loss: 0.0872 - rpn_class_loss: 0.0029 - rpn_bbox_loss: 0.0036 - mrcnn_class_loss: 0.0188 - mrcnn_bbox_loss: 0.0032 - mrcnn_mask_loss: 0.0588 - val_loss: 3.3052 - val_rpn_class_loss: 0.8546 - val_rpn_bbox_loss: 0.3690 - val_mrcnn_class_loss: 1.2118 - val_mrcnn_bbox_loss: 0.2581 - val_mrcnn_mask_loss: 0.6117\n",
            "Epoch 21/30\n",
            "100/100 [==============================] - 433s 4s/step - loss: 0.0810 - rpn_class_loss: 0.0031 - rpn_bbox_loss: 0.0032 - mrcnn_class_loss: 0.0159 - mrcnn_bbox_loss: 0.0025 - mrcnn_mask_loss: 0.0563 - val_loss: 3.4697 - val_rpn_class_loss: 0.9204 - val_rpn_bbox_loss: 0.3750 - val_mrcnn_class_loss: 1.2755 - val_mrcnn_bbox_loss: 0.2714 - val_mrcnn_mask_loss: 0.6274\n",
            "Epoch 22/30\n",
            "100/100 [==============================] - 435s 4s/step - loss: 0.0793 - rpn_class_loss: 0.0031 - rpn_bbox_loss: 0.0027 - mrcnn_class_loss: 0.0144 - mrcnn_bbox_loss: 0.0022 - mrcnn_mask_loss: 0.0570 - val_loss: 3.4146 - val_rpn_class_loss: 0.9550 - val_rpn_bbox_loss: 0.3715 - val_mrcnn_class_loss: 1.1466 - val_mrcnn_bbox_loss: 0.2775 - val_mrcnn_mask_loss: 0.6639\n",
            "Epoch 23/30\n",
            "100/100 [==============================] - 431s 4s/step - loss: 0.0772 - rpn_class_loss: 0.0027 - rpn_bbox_loss: 0.0025 - mrcnn_class_loss: 0.0134 - mrcnn_bbox_loss: 0.0020 - mrcnn_mask_loss: 0.0566 - val_loss: 3.3936 - val_rpn_class_loss: 0.9424 - val_rpn_bbox_loss: 0.3717 - val_mrcnn_class_loss: 1.1709 - val_mrcnn_bbox_loss: 0.2767 - val_mrcnn_mask_loss: 0.6319\n",
            "Epoch 24/30\n",
            "100/100 [==============================] - 435s 4s/step - loss: 0.0716 - rpn_class_loss: 0.0035 - rpn_bbox_loss: 0.0024 - mrcnn_class_loss: 0.0146 - mrcnn_bbox_loss: 0.0023 - mrcnn_mask_loss: 0.0489 - val_loss: 3.4119 - val_rpn_class_loss: 0.8966 - val_rpn_bbox_loss: 0.3779 - val_mrcnn_class_loss: 1.1902 - val_mrcnn_bbox_loss: 0.2756 - val_mrcnn_mask_loss: 0.6715\n",
            "Epoch 25/30\n",
            "100/100 [==============================] - 435s 4s/step - loss: 0.0768 - rpn_class_loss: 0.0031 - rpn_bbox_loss: 0.0026 - mrcnn_class_loss: 0.0172 - mrcnn_bbox_loss: 0.0029 - mrcnn_mask_loss: 0.0511 - val_loss: 3.4793 - val_rpn_class_loss: 0.9624 - val_rpn_bbox_loss: 0.3783 - val_mrcnn_class_loss: 1.1515 - val_mrcnn_bbox_loss: 0.2876 - val_mrcnn_mask_loss: 0.6996\n",
            "Epoch 26/30\n",
            "100/100 [==============================] - 433s 4s/step - loss: 0.0750 - rpn_class_loss: 0.0025 - rpn_bbox_loss: 0.0022 - mrcnn_class_loss: 0.0145 - mrcnn_bbox_loss: 0.0023 - mrcnn_mask_loss: 0.0534 - val_loss: 3.5839 - val_rpn_class_loss: 1.0193 - val_rpn_bbox_loss: 0.3797 - val_mrcnn_class_loss: 1.2418 - val_mrcnn_bbox_loss: 0.2844 - val_mrcnn_mask_loss: 0.6586\n",
            "Epoch 27/30\n",
            "100/100 [==============================] - 435s 4s/step - loss: 0.0707 - rpn_class_loss: 0.0019 - rpn_bbox_loss: 0.0019 - mrcnn_class_loss: 0.0128 - mrcnn_bbox_loss: 0.0020 - mrcnn_mask_loss: 0.0521 - val_loss: 3.5227 - val_rpn_class_loss: 0.9821 - val_rpn_bbox_loss: 0.3869 - val_mrcnn_class_loss: 1.2184 - val_mrcnn_bbox_loss: 0.2562 - val_mrcnn_mask_loss: 0.6791\n",
            "Epoch 28/30\n",
            "100/100 [==============================] - 433s 4s/step - loss: 0.0758 - rpn_class_loss: 0.0026 - rpn_bbox_loss: 0.0022 - mrcnn_class_loss: 0.0178 - mrcnn_bbox_loss: 0.0030 - mrcnn_mask_loss: 0.0502 - val_loss: 3.8156 - val_rpn_class_loss: 1.0479 - val_rpn_bbox_loss: 0.3857 - val_mrcnn_class_loss: 1.3782 - val_mrcnn_bbox_loss: 0.2959 - val_mrcnn_mask_loss: 0.7079\n",
            "Epoch 29/30\n",
            "100/100 [==============================] - 433s 4s/step - loss: 0.0641 - rpn_class_loss: 0.0023 - rpn_bbox_loss: 0.0018 - mrcnn_class_loss: 0.0128 - mrcnn_bbox_loss: 0.0023 - mrcnn_mask_loss: 0.0448 - val_loss: 3.8157 - val_rpn_class_loss: 1.0713 - val_rpn_bbox_loss: 0.3895 - val_mrcnn_class_loss: 1.3562 - val_mrcnn_bbox_loss: 0.2828 - val_mrcnn_mask_loss: 0.7159\n",
            "Epoch 30/30\n",
            "100/100 [==============================] - 432s 4s/step - loss: 0.0676 - rpn_class_loss: 0.0017 - rpn_bbox_loss: 0.0021 - mrcnn_class_loss: 0.0150 - mrcnn_bbox_loss: 0.0043 - mrcnn_mask_loss: 0.0445 - val_loss: 3.6403 - val_rpn_class_loss: 1.0069 - val_rpn_bbox_loss: 0.3867 - val_mrcnn_class_loss: 1.2561 - val_mrcnn_bbox_loss: 0.2644 - val_mrcnn_mask_loss: 0.7261\n"
          ],
          "name": "stdout"
        }
      ]
    }
  ]
}