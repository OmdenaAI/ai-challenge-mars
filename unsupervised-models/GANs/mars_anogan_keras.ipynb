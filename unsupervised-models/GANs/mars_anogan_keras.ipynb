{
  "nbformat": 4,
  "nbformat_minor": 0,
  "metadata": {
    "colab": {
      "name": "mars-anogan-keras.ipynb",
      "version": "0.3.2",
      "provenance": [],
      "collapsed_sections": [],
      "toc_visible": true
    },
    "kernelspec": {
      "name": "python3",
      "display_name": "Python 3"
    },
    "accelerator": "GPU"
  },
  "cells": [
    {
      "cell_type": "code",
      "metadata": {
        "id": "gusMGRv8Dizz",
        "colab_type": "code",
        "outputId": "30dd9686-1d01-4716-ef6d-8170e7e58f61",
        "colab": {
          "base_uri": "https://localhost:8080/",
          "height": 128
        }
      },
      "source": [
        "from google.colab import drive\n",
        "#drive.mount('/content/gdrive')\n",
        "drive.mount('/content/gdrive', force_remount=False)\n",
        "GPATH=\"/content/gdrive/My Drive/aiml/OmdenaMars/\""
      ],
      "execution_count": 0,
      "outputs": [
        {
          "output_type": "stream",
          "text": [
            "Go to this URL in a browser: https://accounts.google.com/o/oauth2/auth?client_id=947318989803-6bn6qk8qdgf4n4g3pfee6491hc0brc4i.apps.googleusercontent.com&redirect_uri=urn%3Aietf%3Awg%3Aoauth%3A2.0%3Aoob&scope=email%20https%3A%2F%2Fwww.googleapis.com%2Fauth%2Fdocs.test%20https%3A%2F%2Fwww.googleapis.com%2Fauth%2Fdrive%20https%3A%2F%2Fwww.googleapis.com%2Fauth%2Fdrive.photos.readonly%20https%3A%2F%2Fwww.googleapis.com%2Fauth%2Fpeopleapi.readonly&response_type=code\n",
            "\n",
            "Enter your authorization code:\n",
            "··········\n",
            "Mounted at /content/gdrive\n"
          ],
          "name": "stdout"
        }
      ]
    },
    {
      "cell_type": "markdown",
      "metadata": {
        "id": "IHPSzaJEFcAJ",
        "colab_type": "text"
      },
      "source": [
        "# Download Dataset"
      ]
    },
    {
      "cell_type": "code",
      "metadata": {
        "id": "TtjeLS53DD-P",
        "colab_type": "code",
        "colab": {}
      },
      "source": [
        "BASE_PATH=\"/content/data/\"\n",
        "TRAIN_NATURAL_PATH=BASE_PATH+\"train/\"+\"natural/\"\n",
        "TEST_NATURAL_PATH=BASE_PATH+\"test/\"+\"natural/\"\n",
        "TEST_TECHNO_PATH=BASE_PATH+\"test/\"+\"techno/\"\n",
        "TMP_PATH=BASE_PATH+\"tmp/\"\n",
        "WEIGHTS_PATH=GPATH+\"weights/anogan/\"\n",
        "RESULTS_PATH=BASE_PATH+\"results/\""
      ],
      "execution_count": 0,
      "outputs": []
    },
    {
      "cell_type": "code",
      "metadata": {
        "id": "XkqNsVcjFE0L",
        "colab_type": "code",
        "outputId": "a799e782-2ca9-4a22-f7f6-8f1d9368769b",
        "colab": {
          "base_uri": "https://localhost:8080/",
          "height": 54
        }
      },
      "source": [
        "import pathlib\n",
        "from shutil import copyfile\n",
        "import os\n",
        "\n",
        "pathlib.Path(TRAIN_NATURAL_PATH).mkdir(parents=True, exist_ok=True)\n",
        "pathlib.Path(TEST_NATURAL_PATH).mkdir(parents=True, exist_ok=True)\n",
        "pathlib.Path(TEST_TECHNO_PATH).mkdir(parents=True, exist_ok=True)\n",
        "pathlib.Path(TMP_PATH).mkdir(parents=True, exist_ok=True)\n",
        "pathlib.Path(WEIGHTS_PATH).mkdir(parents=True, exist_ok=True)\n",
        "pathlib.Path(RESULTS_PATH).mkdir(parents=True, exist_ok=True)\n",
        "\n",
        "if not os.path.isfile(BASE_PATH+\"natural.tgz\"):\n",
        "    print(\"Copying natural.tgz to local folder\")\n",
        "    copyfile(GPATH+\"natural.tgz\", BASE_PATH+\"natural.tgz\")\n",
        "if not os.path.isfile(BASE_PATH+\"techno.tgz\"):\n",
        "    print(\"Copying techno.tgz to local folder\")\n",
        "    copyfile(GPATH+\"techno.tgz\", BASE_PATH+\"techno.tgz\")"
      ],
      "execution_count": 0,
      "outputs": [
        {
          "output_type": "stream",
          "text": [
            "Copying natural.tgz to local folder\n",
            "Copying techno.tgz to local folder\n"
          ],
          "name": "stdout"
        }
      ]
    },
    {
      "cell_type": "code",
      "metadata": {
        "id": "ORP70B5PUx1p",
        "colab_type": "code",
        "outputId": "92801a1a-ee75-4322-ba29-1d10d2bda1be",
        "colab": {
          "base_uri": "https://localhost:8080/",
          "height": 34
        }
      },
      "source": [
        "# Cleanup old directories\n",
        "!rm -rf /content/data/train/natural/\n",
        "!rm -rf /content/data/test/natural/\n",
        "!rm -rf /content/data/results\n",
        "!mkdir /content/data/train/natural/\n",
        "!mkdir /content/data/test/natural/\n",
        "!mkdir /content/data/results"
      ],
      "execution_count": 0,
      "outputs": [
        {
          "output_type": "stream",
          "text": [
            "mkdir: cannot create directory ‘/content/data/results’: File exists\n"
          ],
          "name": "stdout"
        }
      ]
    },
    {
      "cell_type": "code",
      "metadata": {
        "id": "8F7bL1iwF8lc",
        "colab_type": "code",
        "outputId": "7dca88cc-4c73-439e-af6c-0f16d2bf02cb",
        "colab": {
          "base_uri": "https://localhost:8080/",
          "height": 254
        }
      },
      "source": [
        "import shutil\n",
        "import os\n",
        "\n",
        "print(\"Extracting techno.tgz\")\n",
        "os.system(\"tar -xzf \"+BASE_PATH+\"techno.tgz \"+\"-C \"+TMP_PATH)\n",
        "print(\"Extracting techno.tgz, Done.\")\n",
        "\n",
        "for dir in os.listdir(TMP_PATH+\"content/gdrive/My Drive/aiml/OmdenaMars/data/techno/\"):\n",
        "    print(\"Moving Files from:\", dir+\":\")\n",
        "    for file in os.listdir(TMP_PATH+\"content/gdrive/My Drive/aiml/OmdenaMars/data/techno/\"+dir):\n",
        "        #print(file)\n",
        "        shutil.move(TMP_PATH+\"content/gdrive/My Drive/aiml/OmdenaMars/data/techno/\"+dir+\"/\"+file, TEST_TECHNO_PATH+file)\n",
        "\n",
        "#cleanup temp dir\n",
        "shutil.rmtree(TMP_PATH+\"content\")\n",
        "\n",
        "print(\"Extracting natural.tgz\")\n",
        "os.system(\"tar -xzf \"+BASE_PATH+\"natural.tgz \"+\"-C \"+TMP_PATH)\n",
        "print(\"Extracting natural.tgz, Done.\")\n",
        "\n",
        "count = 204800\n",
        "print(\"Moving Natural File\")\n",
        "for file in os.listdir(TMP_PATH+\"content/gdrive/My Drive/aiml/OmdenaMars/data/natural/\"):\n",
        "    f1 = file.split(\"_\")\n",
        "    xVal = int(f1[2])\n",
        "    yVal = int(f1[4].split(\".\")[0])\n",
        "    if (xVal >= 8000) and (yVal>=5000):\n",
        "        if(xVal <= 15000) and (yVal <= 30000):\n",
        "            shutil.move(TMP_PATH+\"content/gdrive/My Drive/aiml/OmdenaMars/data/natural/\"+file, TRAIN_NATURAL_PATH+file)\n",
        "            count -= 1\n",
        "            if (count <= 0):\n",
        "                break\n",
        "\n",
        "print(\"Move 64 images from train/natural folder to test/natural folder\")\n",
        "count = 64\n",
        "for file in os.listdir(TRAIN_NATURAL_PATH):\n",
        "    shutil.move(TRAIN_NATURAL_PATH+file, TEST_NATURAL_PATH+file)\n",
        "    count -= 1\n",
        "    if count <= 0:\n",
        "        break\n",
        "print(\"Done\")"
      ],
      "execution_count": 0,
      "outputs": [
        {
          "output_type": "stream",
          "text": [
            "Extracting techno.tgz\n",
            "Extracting techno.tgz, Done.\n",
            "Moving Files from: Parachute:\n",
            "Moving Files from: Descent-Stage-Crash-Site:\n",
            "Moving Files from: 2-new-spots-spot2:\n",
            "Moving Files from: Curiosoity-Rover:\n",
            "Moving Files from: Heat-Sheild:\n",
            "Moving Files from: 2-new-spots-spot1:\n",
            "Extracting natural.tgz\n",
            "Extracting natural.tgz, Done.\n",
            "Moving Natural File\n",
            "Move 64 images from train/natural folder to test/natural folder\n",
            "Done\n"
          ],
          "name": "stdout"
        }
      ]
    },
    {
      "cell_type": "markdown",
      "metadata": {
        "id": "8c-7qWaJDU2m",
        "colab_type": "text"
      },
      "source": [
        "# AnoGAN\n",
        "\n",
        "From: https://github.com/yjucho1/anoGAN"
      ]
    },
    {
      "cell_type": "code",
      "metadata": {
        "id": "FtTjcWKDDWIk",
        "colab_type": "code",
        "outputId": "56e77037-12a3-4125-b08e-1d62980e0973",
        "colab": {
          "base_uri": "https://localhost:8080/",
          "height": 35
        }
      },
      "source": [
        "from __future__ import print_function\n",
        "from keras.models import Sequential, Model\n",
        "from keras.layers import Input, Reshape, Dense, Dropout, MaxPooling2D, Conv2D, Flatten\n",
        "from keras.layers import Conv2DTranspose, LeakyReLU\n",
        "from keras.layers.core import Activation\n",
        "from keras.layers.normalization import BatchNormalization\n",
        "from keras.optimizers import Adam, RMSprop\n",
        "from keras import backend as K\n",
        "from keras import initializers\n",
        "import tensorflow as tf\n",
        "import numpy as np\n",
        "from tqdm import tqdm\n",
        "import cv2\n",
        "import math\n",
        "import csv\n",
        "\n",
        "from keras.utils. generic_utils import Progbar\n",
        " \n",
        "### combine images for visualization\n",
        "def combine_images(generated_images):\n",
        "    num = generated_images.shape[0]\n",
        "    width = int(math.sqrt(num))\n",
        "    height = int(math.ceil(float(num)/width))\n",
        "    shape = generated_images.shape[1:4]\n",
        "    image = np.zeros((height*shape[0], width*shape[1], shape[2]),\n",
        "                     dtype=generated_images.dtype)\n",
        "    for index, img in enumerate(generated_images):\n",
        "        i = int(index/width)\n",
        "        j = index % width\n",
        "        image[i*shape[0]:(i+1)*shape[0], j*shape[1]:(j+1)*shape[1],:] = img[:, :, :]\n",
        "    return image\n",
        " \n",
        "### generator model define\n",
        "def generator_model():\n",
        "    inputs = Input((100,))\n",
        "    #M#fc1 = Dense(input_dim=10, units=128*7*7)(inputs)\n",
        "    fc1 = Dense(input_dim=10, units=128*32*32)(inputs)\n",
        "    fc1 = BatchNormalization()(fc1)\n",
        "    fc1 = LeakyReLU(0.2)(fc1)\n",
        "    #M#fc2 = Reshape((7, 7, 128), input_shape=(128*7*7,))(fc1)\n",
        "    fc2 = Reshape((32, 32, 128), input_shape=(128*64*64,))(fc1)\n",
        "    up1 = Conv2DTranspose(64, (2, 2), strides=(2, 2), padding='same')(fc2)\n",
        "    conv1 = Conv2D(64, (3, 3), padding='same')(up1)\n",
        "    conv1 = BatchNormalization()(conv1)\n",
        "    conv1 = Activation('relu')(conv1)\n",
        "    up2 = Conv2DTranspose(64, (2, 2), strides=(2, 2), padding='same')(conv1)\n",
        "    conv2 = Conv2D(1, (5, 5), padding='same')(up2)\n",
        "    outputs = Activation('tanh')(conv2)\n",
        "     \n",
        "    model = Model(inputs=[inputs], outputs=[outputs])\n",
        "    return model\n",
        " \n",
        "### discriminator model define\n",
        "def discriminator_model():\n",
        "    #M#inputs = Input((28, 28, 1))\n",
        "    inputs = Input((128, 128, 1))\n",
        "    conv1 = Conv2D(64, (5, 5), padding='same')(inputs)\n",
        "    conv1 = LeakyReLU(0.2)(conv1)\n",
        "    conv1 = Dropout(0.2)(conv1)\n",
        "    pool1 = MaxPooling2D(pool_size=(2, 2))(conv1)\n",
        "    conv2 = Conv2D(128, (5, 5), padding='same')(pool1)\n",
        "    conv2 = LeakyReLU(0.2)(conv2)\n",
        "    conv2 = Dropout(0.2)(conv2)\n",
        "    pool2 = MaxPooling2D(pool_size=(2, 2))(conv2)\n",
        "    \n",
        "    fc1 = Flatten()(pool2)\n",
        "    fc1 = Dense(1)(fc1)\n",
        "    outputs = Activation('sigmoid')(fc1)\n",
        "     \n",
        "    model = Model(inputs=[inputs], outputs=[outputs])\n",
        "    return model\n",
        " \n",
        "### d_on_g model for training generator\n",
        "def generator_containing_discriminator(g, d):\n",
        "    d.trainable = False\n",
        "    ganInput = Input(shape=(100,))\n",
        "    x = g(ganInput)\n",
        "    ganOutput = d(x)\n",
        "    gan = Model(inputs=ganInput, outputs=ganOutput)\n",
        "    #gan.compile(loss='binary_crossentropy', optimizer='adam')\n",
        "    return gan\n",
        " \n",
        "def load_generator_model(best=False):\n",
        "    g = generator_model()\n",
        "    g_optim = RMSprop(lr=0.0002)\n",
        "    g.compile(loss='binary_crossentropy', optimizer=g_optim,metrics=['accuracy'])\n",
        "    if best == True:\n",
        "        g.load_weights(WEIGHTS_PATH+'generator.best.h5')\n",
        "    else:\n",
        "        g.load_weights(WEIGHTS_PATH+'generator.h5')\n",
        "    return g\n",
        "\n",
        "def load_discriminator_model(best=False):\n",
        "    d = discriminator_model()\n",
        "    d_optim = RMSprop(lr=0.0004)\n",
        "    d.compile(loss='binary_crossentropy', optimizer=d_optim, metrics=['accuracy'])\n",
        "    if best == True:\n",
        "        d.load_weights(WEIGHTS_PATH+'discriminator.best.h5')\n",
        "    else:\n",
        "        d.load_weights(WEIGHTS_PATH+'discriminator.h5')\n",
        "    return d\n",
        "\n",
        "def load_gan_model(g, d):\n",
        "    d_on_g = generator_containing_discriminator(g, d)\n",
        "    d_on_g.compile(loss='binary_crossentropy', optimizer=g_optim,metrics=['accuracy'])\n",
        "    d_on_g.load_weights(WEIGHTS_PATH+'gan.h5')\n",
        "    return g\n",
        "\n",
        "\n",
        "def load_model(best=False):\n",
        "    g = load_generator_model(best)\n",
        "    d = discriminator_model(best)\n",
        "    return g,d\n",
        "\n",
        "### train generator and discriminator\n",
        "def train(BATCH_SIZE, X_train_generator, reloadWeights=False):\n",
        "    \n",
        "    batch_size = X_train_generator.batch_size        \n",
        "    n_steps = int(X_train_generator.samples / batch_size)\n",
        "\n",
        "    ### model define\n",
        "    if reloadWeights == False:\n",
        "        d = discriminator_model()\n",
        "    else:\n",
        "        d= load_discriminator_model()\n",
        "        \n",
        "    if reloadWeights == False:\n",
        "        g = generator_model()\n",
        "    else:\n",
        "        g = load_generator_model()\n",
        "    \n",
        "    if reloadWeights == False:\n",
        "        d_on_g = generator_containing_discriminator(g, d)\n",
        "    else:\n",
        "        d_on_g = load_gan_model()\n",
        "        \n",
        "    d_optim = RMSprop(lr=0.0004)\n",
        "    g_optim = RMSprop(lr=0.0002)\n",
        "    \n",
        "    if reloadWeights == False:\n",
        "        #M#g.compile(loss='mse', optimizer=g_optim,metrics=['accuracy'])\n",
        "        g.compile(loss='binary_crossentropy', optimizer=g_optim,metrics=['accuracy'])\n",
        "    if reloadWeights == False:\n",
        "        #M#d_on_g.compile(loss='mse', optimizer=g_optim, metrics=['accuracy'])\n",
        "        d_on_g.compile(loss='binary_crossentropy', optimizer=g_optim,metrics=['accuracy'])\n",
        "    d.trainable = True\n",
        "    if reloadWeights == False:\n",
        "        #M#d.compile(loss='mse', optimizer=d_optim, metrics=['accuracy'])\n",
        "        d.compile(loss='binary_crossentropy', optimizer=d_optim, metrics=['accuracy'])\n",
        "     \n",
        "    if (not os.path.isfile(WEIGHTS_PATH+\"train-status.csv\")) or (reloadWeights == False):\n",
        "        #Initialize train status file\n",
        "        field_names = ['epoch', 'g-loss', 'g-acc', 'd-loss', 'd-acc']\n",
        "        with open(WEIGHTS_PATH+\"train-status.csv\",\"w\") as trainStatusFile:\n",
        "            tStatusLogger = csv.DictWriter(trainStatusFile, fieldnames=field_names)\n",
        "            tStatusLogger.writeheader()\n",
        "\n",
        "    bestDAcc = 0\n",
        "    bestGLoss = 100\n",
        "    for epoch in range(300):\n",
        "        print (\"Epoch is\", epoch)\n",
        "        #n_iter = int(X_train.shape[0]/BATCH_SIZE)\n",
        "        n_iter = int(X_train_generator.samples / BATCH_SIZE)\n",
        "        progress_bar = Progbar(target=n_iter)\n",
        "        histGLoss = []\n",
        "        histGAcc = []\n",
        "        histDLoss = []\n",
        "        histDAcc = []\n",
        "        for index in range(n_iter):\n",
        "            # create random noise -> U(0,1) 10 latent vectors\n",
        "            noise = np.random.uniform(0, 1, size=(BATCH_SIZE, 100))\n",
        " \n",
        "            # load real data & generate fake data\n",
        "            #image_batch = X_train[index*BATCH_SIZE:(index+1)*BATCH_SIZE]\n",
        "            image_batch = (X_train_generator.next().astype(np.float32) - 127.5) / 127.5\n",
        "            if (image_batch.shape[0] != BATCH_SIZE):\n",
        "                #Incomplete last batch, skip to next batch\n",
        "                image_batch = (X_train_generator.next().astype(np.float32) - 127.5) / 127.5\n",
        "                \n",
        "            generated_images = g.predict(noise, verbose=0)\n",
        "             \n",
        "            # visualize training results\n",
        "            if (epoch % 5 == 0) and (index== n_iter-1):\n",
        "                image = combine_images(generated_images)\n",
        "                image = image*127.5+127.5\n",
        "                cv2.imwrite(RESULTS_PATH+str(epoch)+\"_\"+str(index)+\".png\", image)\n",
        " \n",
        "            # attach label for training discriminator\n",
        "            X = np.concatenate((image_batch, generated_images))\n",
        "            y = np.array([1] * BATCH_SIZE + [0] * BATCH_SIZE)\n",
        "             \n",
        "            # training discriminator\n",
        "            d_loss = d.train_on_batch(X, y)\n",
        " \n",
        "            # training generator\n",
        "            d.trainable = False\n",
        "            g_loss = d_on_g.train_on_batch(noise, np.array([1] * BATCH_SIZE))\n",
        "            d.trainable = True\n",
        " \n",
        "            progress_bar.update(index+1, values=[('g-loss:',g_loss[0]), ('g-acc',g_loss[1]), ('d-loss:',d_loss[0]),('d-acc:',d_loss[1])])\n",
        "            histGLoss.append(g_loss[0])\n",
        "            histGAcc.append(g_loss[1])\n",
        "            histDLoss.append(d_loss[0])\n",
        "            histDAcc.append(d_loss[1])\n",
        " \n",
        "        #save train status\n",
        "        tStatus = {}\n",
        "        tStatus['epoch'] = epoch\n",
        "        tStatus['g-loss'] = sum(histGLoss)/len(histGLoss)\n",
        "        tStatus['g-acc'] = sum(histGAcc)/len(histGAcc)\n",
        "        tStatus['d-loss'] = sum(histDLoss)/len(histDLoss)\n",
        "        tStatus['d-acc'] = sum(histDAcc)/len(histDAcc)\n",
        "\n",
        "        with open(WEIGHTS_PATH+\"train-status.csv\",\"a\") as trainStatusFile:\n",
        "            tStatusLogger = csv.DictWriter(trainStatusFile, fieldnames=field_names)\n",
        "            tStatusLogger.writerow(tStatus)\n",
        "\n",
        "        # save weights for each epoch\n",
        "        g.save_weights(WEIGHTS_PATH+'generator.h5', True)\n",
        "        d.save_weights(WEIGHTS_PATH+'discriminator.h5', True)\n",
        "        d_on_g.save_weights(WEIGHTS_PATH+'gan.h5', True)\n",
        "        \n",
        "        d1 = tStatus['d-acc'] + (1-tStatus['g-loss'])\n",
        "        if d1 > bestDAcc:\n",
        "            bestDAcc = d1\n",
        "            with open(WEIGHTS_PATH+\"discriminator.best.txt\", \"w\") as file:\n",
        "                file.write(\"Epoch: {} discriminator best acc: {}\".format(epoch, d1))\n",
        "            d.save_weights(WEIGHTS_PATH+'discriminator.best.h5', True)\n",
        "            \n",
        "        if ((sum(histGLoss)/len(histGLoss)) < bestGLoss):\n",
        "            bestGLoss = (sum(histGLoss)/len(histGLoss))\n",
        "            with open(WEIGHTS_PATH+\"generator.best.txt\", \"w\") as file:\n",
        "                file.write(\"Epoch: {} generator best loss: {}\".format(epoch, bestGLoss))\n",
        "            g.save_weights(WEIGHTS_PATH+'generator.best.h5', True)\n",
        "            \n",
        "    return d, g\n",
        " \n",
        "### generate images\n",
        "def generate(BATCH_SIZE):\n",
        "    g = load_generator_model()\n",
        "    noise = np.random.uniform(0, 1, (BATCH_SIZE, 100))\n",
        "    generated_images = g.predict(noise)\n",
        "    return generated_images\n",
        " \n",
        "### anomaly loss function \n",
        "def sum_of_residual(y_true, y_pred):\n",
        "    return K.sum(K.abs(y_true - y_pred))\n",
        " \n",
        "### discriminator intermediate layer feautre extraction\n",
        "def feature_extractor(d=None):\n",
        "    if d is None:\n",
        "        d = load_discriminator_model()\n",
        "    intermidiate_model = Model(inputs=d.layers[0].input, outputs=d.layers[-7].output)\n",
        "    intermidiate_model.compile(loss='binary_crossentropy', optimizer='rmsprop')\n",
        "    return intermidiate_model\n",
        " \n",
        "### anomaly detection model define\n",
        "def anomaly_detector(g=None, d=None):\n",
        "    if g is None:\n",
        "        g = load_generator_model()\n",
        "    if d is None:\n",
        "        d = load_discriminator_model()\n",
        "        \n",
        "    intermidiate_model = feature_extractor(d)\n",
        "    intermidiate_model.trainable = False\n",
        "    g = Model(inputs=g.layers[1].input, outputs=g.layers[-1].output)\n",
        "    g.trainable = False\n",
        "    # Input layer cann't be trained. Add new layer as same size & same distribution\n",
        "    aInput = Input(shape=(100,))\n",
        "    gInput = Dense((100), trainable=True)(aInput)\n",
        "    gInput = Activation('sigmoid')(gInput)\n",
        "     \n",
        "    # G & D feature\n",
        "    G_out = g(gInput)\n",
        "    D_out= intermidiate_model(G_out)    \n",
        "    model = Model(inputs=aInput, outputs=[G_out, D_out])\n",
        "    model.compile(loss=sum_of_residual, loss_weights= [0.90, 0.10], optimizer='rmsprop')\n",
        "     \n",
        "    # batchnorm learning phase fixed (test) : make non trainable\n",
        "    K.set_learning_phase(0)\n",
        "     \n",
        "    return model\n",
        " \n",
        "### anomaly detection\n",
        "def compute_anomaly_score(model, x, iterations=500, d=None):\n",
        "    z = np.random.uniform(0, 1, size=(1, 100))\n",
        "     \n",
        "    intermidiate_model = feature_extractor(d)\n",
        "    d_x = intermidiate_model.predict(x)\n",
        " \n",
        "    # learning for changing latent\n",
        "    loss = model.fit(z, [x, d_x], batch_size=1, epochs=iterations, verbose=0)\n",
        "    similar_data, _ = model.predict(z)\n",
        "     \n",
        "    loss = loss.history['loss'][-1]\n",
        "     \n",
        "    return loss, similar_data"
      ],
      "execution_count": 0,
      "outputs": [
        {
          "output_type": "stream",
          "text": [
            "Using TensorFlow backend.\n"
          ],
          "name": "stderr"
        }
      ]
    },
    {
      "cell_type": "code",
      "metadata": {
        "id": "vDzARAccR9q-",
        "colab_type": "code",
        "outputId": "1b74a306-fadc-4889-8969-7d5490b19dc9",
        "colab": {
          "base_uri": "https://localhost:8080/",
          "height": 1565
        }
      },
      "source": [
        "print(\"generator_model:\")\n",
        "t1 = generator_model()\n",
        "print(t1.summary())\n",
        "\n",
        "print(\"discriminator_model:\")\n",
        "t1 = discriminator_model()\n",
        "print(t1.summary())"
      ],
      "execution_count": 0,
      "outputs": [
        {
          "output_type": "stream",
          "text": [
            "WARNING: Logging before flag parsing goes to stderr.\n",
            "W0617 01:14:16.767421 139634469906304 deprecation_wrapper.py:119] From /usr/local/lib/python3.6/dist-packages/keras/backend/tensorflow_backend.py:74: The name tf.get_default_graph is deprecated. Please use tf.compat.v1.get_default_graph instead.\n",
            "\n",
            "W0617 01:14:16.813783 139634469906304 deprecation_wrapper.py:119] From /usr/local/lib/python3.6/dist-packages/keras/backend/tensorflow_backend.py:517: The name tf.placeholder is deprecated. Please use tf.compat.v1.placeholder instead.\n",
            "\n",
            "W0617 01:14:16.829480 139634469906304 deprecation_wrapper.py:119] From /usr/local/lib/python3.6/dist-packages/keras/backend/tensorflow_backend.py:4138: The name tf.random_uniform is deprecated. Please use tf.random.uniform instead.\n",
            "\n",
            "W0617 01:14:16.936831 139634469906304 deprecation_wrapper.py:119] From /usr/local/lib/python3.6/dist-packages/keras/backend/tensorflow_backend.py:133: The name tf.placeholder_with_default is deprecated. Please use tf.compat.v1.placeholder_with_default instead.\n",
            "\n"
          ],
          "name": "stderr"
        },
        {
          "output_type": "stream",
          "text": [
            "generator_model:\n"
          ],
          "name": "stdout"
        },
        {
          "output_type": "stream",
          "text": [
            "W0617 01:14:17.029087 139634469906304 deprecation_wrapper.py:119] From /usr/local/lib/python3.6/dist-packages/keras/backend/tensorflow_backend.py:174: The name tf.get_default_session is deprecated. Please use tf.compat.v1.get_default_session instead.\n",
            "\n",
            "W0617 01:14:20.248766 139634469906304 deprecation_wrapper.py:119] From /usr/local/lib/python3.6/dist-packages/keras/backend/tensorflow_backend.py:1834: The name tf.nn.fused_batch_norm is deprecated. Please use tf.compat.v1.nn.fused_batch_norm instead.\n",
            "\n",
            "W0617 01:14:20.386857 139634469906304 deprecation.py:506] From /usr/local/lib/python3.6/dist-packages/keras/backend/tensorflow_backend.py:3445: calling dropout (from tensorflow.python.ops.nn_ops) with keep_prob is deprecated and will be removed in a future version.\n",
            "Instructions for updating:\n",
            "Please use `rate` instead of `keep_prob`. Rate should be set to `rate = 1 - keep_prob`.\n",
            "W0617 01:14:20.402600 139634469906304 deprecation_wrapper.py:119] From /usr/local/lib/python3.6/dist-packages/keras/backend/tensorflow_backend.py:3976: The name tf.nn.max_pool is deprecated. Please use tf.nn.max_pool2d instead.\n",
            "\n"
          ],
          "name": "stderr"
        },
        {
          "output_type": "stream",
          "text": [
            "_________________________________________________________________\n",
            "Layer (type)                 Output Shape              Param #   \n",
            "=================================================================\n",
            "input_1 (InputLayer)         (None, 100)               0         \n",
            "_________________________________________________________________\n",
            "dense_1 (Dense)              (None, 131072)            13238272  \n",
            "_________________________________________________________________\n",
            "batch_normalization_1 (Batch (None, 131072)            524288    \n",
            "_________________________________________________________________\n",
            "leaky_re_lu_1 (LeakyReLU)    (None, 131072)            0         \n",
            "_________________________________________________________________\n",
            "reshape_1 (Reshape)          (None, 32, 32, 128)       0         \n",
            "_________________________________________________________________\n",
            "conv2d_transpose_1 (Conv2DTr (None, 64, 64, 64)        32832     \n",
            "_________________________________________________________________\n",
            "conv2d_1 (Conv2D)            (None, 64, 64, 64)        36928     \n",
            "_________________________________________________________________\n",
            "batch_normalization_2 (Batch (None, 64, 64, 64)        256       \n",
            "_________________________________________________________________\n",
            "activation_1 (Activation)    (None, 64, 64, 64)        0         \n",
            "_________________________________________________________________\n",
            "conv2d_transpose_2 (Conv2DTr (None, 128, 128, 64)      16448     \n",
            "_________________________________________________________________\n",
            "conv2d_2 (Conv2D)            (None, 128, 128, 1)       1601      \n",
            "_________________________________________________________________\n",
            "activation_2 (Activation)    (None, 128, 128, 1)       0         \n",
            "=================================================================\n",
            "Total params: 13,850,625\n",
            "Trainable params: 13,588,353\n",
            "Non-trainable params: 262,272\n",
            "_________________________________________________________________\n",
            "None\n",
            "discriminator_model:\n",
            "_________________________________________________________________\n",
            "Layer (type)                 Output Shape              Param #   \n",
            "=================================================================\n",
            "input_2 (InputLayer)         (None, 128, 128, 1)       0         \n",
            "_________________________________________________________________\n",
            "conv2d_3 (Conv2D)            (None, 128, 128, 64)      1664      \n",
            "_________________________________________________________________\n",
            "leaky_re_lu_2 (LeakyReLU)    (None, 128, 128, 64)      0         \n",
            "_________________________________________________________________\n",
            "dropout_1 (Dropout)          (None, 128, 128, 64)      0         \n",
            "_________________________________________________________________\n",
            "max_pooling2d_1 (MaxPooling2 (None, 64, 64, 64)        0         \n",
            "_________________________________________________________________\n",
            "conv2d_4 (Conv2D)            (None, 64, 64, 128)       204928    \n",
            "_________________________________________________________________\n",
            "leaky_re_lu_3 (LeakyReLU)    (None, 64, 64, 128)       0         \n",
            "_________________________________________________________________\n",
            "dropout_2 (Dropout)          (None, 64, 64, 128)       0         \n",
            "_________________________________________________________________\n",
            "max_pooling2d_2 (MaxPooling2 (None, 32, 32, 128)       0         \n",
            "_________________________________________________________________\n",
            "flatten_1 (Flatten)          (None, 131072)            0         \n",
            "_________________________________________________________________\n",
            "dense_2 (Dense)              (None, 1)                 131073    \n",
            "_________________________________________________________________\n",
            "activation_3 (Activation)    (None, 1)                 0         \n",
            "=================================================================\n",
            "Total params: 337,665\n",
            "Trainable params: 337,665\n",
            "Non-trainable params: 0\n",
            "_________________________________________________________________\n",
            "None\n"
          ],
          "name": "stdout"
        }
      ]
    },
    {
      "cell_type": "markdown",
      "metadata": {
        "id": "sCb-DTp_Gn6e",
        "colab_type": "text"
      },
      "source": [
        "## Train Ano-GAN"
      ]
    },
    {
      "cell_type": "code",
      "metadata": {
        "id": "bP25VAPhDevq",
        "colab_type": "code",
        "outputId": "b16047c5-c475-49c6-eac5-4edb8e4ad0eb",
        "colab": {
          "base_uri": "https://localhost:8080/",
          "height": 35
        }
      },
      "source": [
        "from keras.preprocessing.image import ImageDataGenerator, array_to_img, img_to_array, load_img\n",
        "\n",
        "train_directory=BASE_PATH+\"train/\"\n",
        "validation_directory=BASE_PATH+\"test/\"\n",
        "\n",
        "train_datagen = ImageDataGenerator()\n",
        "\n",
        "train_generator = train_datagen.flow_from_directory(\n",
        "    directory   = train_directory,       # this is the target directory\n",
        "    target_size = (128, 128, 1)[:-1],         # all images will be resized to 64x64\n",
        "    batch_size  = 128,\n",
        "    color_mode  = \"grayscale\",                    # We use a grayscale dataset\n",
        "    classes=[\"natural\"],\n",
        "    class_mode  = None                            # We do not need to get any label => Everything is healthy\n",
        ")  \n"
      ],
      "execution_count": 0,
      "outputs": [
        {
          "output_type": "stream",
          "text": [
            "Found 10657 images belonging to 1 classes.\n"
          ],
          "name": "stdout"
        }
      ]
    },
    {
      "cell_type": "code",
      "metadata": {
        "id": "A0OmuUq9GyN5",
        "colab_type": "code",
        "outputId": "85b3d6c8-55ab-4201-9c22-6dc848c72f01",
        "colab": {
          "base_uri": "https://localhost:8080/",
          "height": 3508
        }
      },
      "source": [
        "#%debug\n",
        "Model_d, Model_g = train(128, train_generator)"
      ],
      "execution_count": 0,
      "outputs": [
        {
          "output_type": "stream",
          "text": [
            "Epoch is 0\n",
            "83/83 [==============================] - 110s 1s/step - g-loss:: 1.2210 - g-acc: 0.4751 - d-loss:: 0.5744 - d-acc:: 0.7553\n",
            "Epoch is 1\n",
            "83/83 [==============================] - 99s 1s/step - g-loss:: 0.2372 - g-acc: 0.9000 - d-loss:: 0.5312 - d-acc:: 0.7294\n",
            "Epoch is 2\n",
            "83/83 [==============================] - 99s 1s/step - g-loss:: 0.4888 - g-acc: 0.8512 - d-loss:: 0.6350 - d-acc:: 0.6782\n",
            "Epoch is 3\n",
            "83/83 [==============================] - 99s 1s/step - g-loss:: 0.3417 - g-acc: 0.8881 - d-loss:: 0.5800 - d-acc:: 0.6653\n",
            "Epoch is 4\n",
            "83/83 [==============================] - 99s 1s/step - g-loss:: 0.3355 - g-acc: 0.9168 - d-loss:: 0.6326 - d-acc:: 0.6388\n",
            "Epoch is 5\n",
            "83/83 [==============================] - 99s 1s/step - g-loss:: 0.0764 - g-acc: 0.9986 - d-loss:: 0.4808 - d-acc:: 0.7814\n",
            "Epoch is 6\n",
            "83/83 [==============================] - 99s 1s/step - g-loss:: 0.0258 - g-acc: 0.9997 - d-loss:: 0.3744 - d-acc:: 0.8357\n",
            "Epoch is 7\n",
            "83/83 [==============================] - 99s 1s/step - g-loss:: 0.0573 - g-acc: 0.9912 - d-loss:: 0.4480 - d-acc:: 0.7789\n",
            "Epoch is 8\n",
            "83/83 [==============================] - 99s 1s/step - g-loss:: 0.0618 - g-acc: 0.9965 - d-loss:: 0.4794 - d-acc:: 0.7569\n",
            "Epoch is 9\n",
            "83/83 [==============================] - 99s 1s/step - g-loss:: 0.2609 - g-acc: 0.9540 - d-loss:: 0.6863 - d-acc:: 0.5602\n",
            "Epoch is 10\n",
            "83/83 [==============================] - 99s 1s/step - g-loss:: 0.1804 - g-acc: 0.9925 - d-loss:: 0.6309 - d-acc:: 0.6506\n",
            "Epoch is 11\n",
            "83/83 [==============================] - 99s 1s/step - g-loss:: 0.0624 - g-acc: 0.9999 - d-loss:: 0.5131 - d-acc:: 0.7301\n",
            "Epoch is 12\n",
            "83/83 [==============================] - 99s 1s/step - g-loss:: 0.0569 - g-acc: 0.9928 - d-loss:: 0.5035 - d-acc:: 0.7529\n",
            "Epoch is 13\n",
            "83/83 [==============================] - 99s 1s/step - g-loss:: 0.1988 - g-acc: 0.9667 - d-loss:: 0.5646 - d-acc:: 0.6821\n",
            "Epoch is 14\n",
            "83/83 [==============================] - 99s 1s/step - g-loss:: 0.2842 - g-acc: 0.9543 - d-loss:: 0.7172 - d-acc:: 0.5461\n",
            "Epoch is 15\n",
            "83/83 [==============================] - 99s 1s/step - g-loss:: 0.4076 - g-acc: 0.9079 - d-loss:: 0.7151 - d-acc:: 0.5207\n",
            "Epoch is 16\n",
            "83/83 [==============================] - 99s 1s/step - g-loss:: 0.3897 - g-acc: 0.9351 - d-loss:: 0.6900 - d-acc:: 0.5489\n",
            "Epoch is 17\n",
            "83/83 [==============================] - 99s 1s/step - g-loss:: 0.0912 - g-acc: 0.9931 - d-loss:: 0.4921 - d-acc:: 0.7853\n",
            "Epoch is 18\n",
            "83/83 [==============================] - 99s 1s/step - g-loss:: 0.0978 - g-acc: 0.9577 - d-loss:: 0.2834 - d-acc:: 0.8962\n",
            "Epoch is 19\n",
            "83/83 [==============================] - 99s 1s/step - g-loss:: 0.1557 - g-acc: 0.9811 - d-loss:: 0.5451 - d-acc:: 0.7288\n",
            "Epoch is 20\n",
            "83/83 [==============================] - 99s 1s/step - g-loss:: 0.0699 - g-acc: 0.9935 - d-loss:: 0.4804 - d-acc:: 0.7641\n",
            "Epoch is 21\n",
            "83/83 [==============================] - 99s 1s/step - g-loss:: 0.1282 - g-acc: 0.9832 - d-loss:: 0.5792 - d-acc:: 0.6883\n",
            "Epoch is 22\n",
            "83/83 [==============================] - 99s 1s/step - g-loss:: 0.2068 - g-acc: 0.9890 - d-loss:: 0.6404 - d-acc:: 0.6187\n",
            "Epoch is 23\n",
            "83/83 [==============================] - 99s 1s/step - g-loss:: 0.3342 - g-acc: 0.9088 - d-loss:: 0.7040 - d-acc:: 0.5689\n",
            "Epoch is 24\n",
            "83/83 [==============================] - 99s 1s/step - g-loss:: 0.2703 - g-acc: 0.9497 - d-loss:: 0.6626 - d-acc:: 0.6027\n",
            "Epoch is 25\n",
            "83/83 [==============================] - 99s 1s/step - g-loss:: 0.1630 - g-acc: 0.9965 - d-loss:: 0.6111 - d-acc:: 0.6450\n",
            "Epoch is 26\n",
            "83/83 [==============================] - 99s 1s/step - g-loss:: 0.3143 - g-acc: 0.9206 - d-loss:: 0.6752 - d-acc:: 0.5862\n",
            "Epoch is 27\n",
            "83/83 [==============================] - 99s 1s/step - g-loss:: 0.3293 - g-acc: 0.9426 - d-loss:: 0.6648 - d-acc:: 0.5877\n",
            "Epoch is 28\n",
            "83/83 [==============================] - 99s 1s/step - g-loss:: 0.2076 - g-acc: 0.9717 - d-loss:: 0.6234 - d-acc:: 0.6611\n",
            "Epoch is 29\n",
            "83/83 [==============================] - 99s 1s/step - g-loss:: 0.1036 - g-acc: 0.9868 - d-loss:: 0.5097 - d-acc:: 0.7721\n",
            "Epoch is 30\n",
            "83/83 [==============================] - 99s 1s/step - g-loss:: 0.1961 - g-acc: 0.9883 - d-loss:: 0.6561 - d-acc:: 0.5967\n",
            "Epoch is 31\n",
            "83/83 [==============================] - 99s 1s/step - g-loss:: 0.2570 - g-acc: 0.9727 - d-loss:: 0.6410 - d-acc:: 0.6021\n",
            "Epoch is 32\n",
            "83/83 [==============================] - 99s 1s/step - g-loss:: 0.1387 - g-acc: 0.9774 - d-loss:: 0.5645 - d-acc:: 0.7197\n",
            "Epoch is 33\n",
            "83/83 [==============================] - 99s 1s/step - g-loss:: 0.1151 - g-acc: 0.9939 - d-loss:: 0.5778 - d-acc:: 0.7056\n",
            "Epoch is 34\n",
            "83/83 [==============================] - 99s 1s/step - g-loss:: 0.2071 - g-acc: 0.9960 - d-loss:: 0.6525 - d-acc:: 0.5849\n",
            "Epoch is 35\n",
            "83/83 [==============================] - 99s 1s/step - g-loss:: 0.2588 - g-acc: 0.9788 - d-loss:: 0.6458 - d-acc:: 0.6046\n",
            "Epoch is 36\n",
            "83/83 [==============================] - 99s 1s/step - g-loss:: 0.2040 - g-acc: 0.9719 - d-loss:: 0.6059 - d-acc:: 0.6593\n",
            "Epoch is 37\n",
            "83/83 [==============================] - 99s 1s/step - g-loss:: 0.1691 - g-acc: 0.9948 - d-loss:: 0.5942 - d-acc:: 0.6380\n",
            "Epoch is 38\n",
            "83/83 [==============================] - 99s 1s/step - g-loss:: 0.2675 - g-acc: 0.9767 - d-loss:: 0.6271 - d-acc:: 0.6040\n",
            "Epoch is 39\n",
            "83/83 [==============================] - 99s 1s/step - g-loss:: 0.1664 - g-acc: 0.9849 - d-loss:: 0.5507 - d-acc:: 0.6898\n",
            "Epoch is 40\n",
            "83/83 [==============================] - 99s 1s/step - g-loss:: 0.1520 - g-acc: 0.9808 - d-loss:: 0.5744 - d-acc:: 0.6869\n",
            "Epoch is 41\n",
            "83/83 [==============================] - 99s 1s/step - g-loss:: 0.3115 - g-acc: 0.9251 - d-loss:: 0.6832 - d-acc:: 0.5693\n",
            "Epoch is 42\n",
            "83/83 [==============================] - 99s 1s/step - g-loss:: 0.3041 - g-acc: 0.9253 - d-loss:: 0.6479 - d-acc:: 0.5882\n",
            "Epoch is 43\n",
            "83/83 [==============================] - 99s 1s/step - g-loss:: 0.2424 - g-acc: 0.9883 - d-loss:: 0.6295 - d-acc:: 0.6033\n",
            "Epoch is 44\n",
            "83/83 [==============================] - 99s 1s/step - g-loss:: 0.1933 - g-acc: 0.9863 - d-loss:: 0.5900 - d-acc:: 0.6511\n",
            "Epoch is 45\n",
            "83/83 [==============================] - 99s 1s/step - g-loss:: 0.1062 - g-acc: 0.9840 - d-loss:: 0.4725 - d-acc:: 0.7741\n",
            "Epoch is 46\n",
            "83/83 [==============================] - 99s 1s/step - g-loss:: 0.1502 - g-acc: 0.9877 - d-loss:: 0.6167 - d-acc:: 0.6482\n",
            "Epoch is 47\n",
            "83/83 [==============================] - 99s 1s/step - g-loss:: 0.2046 - g-acc: 0.9881 - d-loss:: 0.6477 - d-acc:: 0.6050\n",
            "Epoch is 48\n",
            "83/83 [==============================] - 99s 1s/step - g-loss:: 0.2710 - g-acc: 0.9586 - d-loss:: 0.6440 - d-acc:: 0.5977\n",
            "Epoch is 49\n",
            "83/83 [==============================] - 99s 1s/step - g-loss:: 0.1643 - g-acc: 0.9960 - d-loss:: 0.5706 - d-acc:: 0.6648\n",
            "Epoch is 50\n",
            "83/83 [==============================] - 99s 1s/step - g-loss:: 0.1668 - g-acc: 0.9953 - d-loss:: 0.6083 - d-acc:: 0.6365\n",
            "Epoch is 51\n",
            "83/83 [==============================] - 99s 1s/step - g-loss:: 0.1756 - g-acc: 0.9960 - d-loss:: 0.5895 - d-acc:: 0.6431\n",
            "Epoch is 52\n",
            "83/83 [==============================] - 98s 1s/step - g-loss:: 0.1544 - g-acc: 0.9886 - d-loss:: 0.5975 - d-acc:: 0.6585\n",
            "Epoch is 53\n",
            "83/83 [==============================] - 99s 1s/step - g-loss:: 0.2444 - g-acc: 0.9637 - d-loss:: 0.6409 - d-acc:: 0.6101\n",
            "Epoch is 54\n",
            "83/83 [==============================] - 99s 1s/step - g-loss:: 0.2371 - g-acc: 0.9669 - d-loss:: 0.6385 - d-acc:: 0.6137\n",
            "Epoch is 55\n",
            "83/83 [==============================] - 99s 1s/step - g-loss:: 0.2872 - g-acc: 0.9639 - d-loss:: 0.6688 - d-acc:: 0.5695\n",
            "Epoch is 56\n",
            "83/83 [==============================] - 99s 1s/step - g-loss:: 0.1547 - g-acc: 0.9896 - d-loss:: 0.5209 - d-acc:: 0.6993\n",
            "Epoch is 57\n",
            "83/83 [==============================] - 99s 1s/step - g-loss:: 0.1240 - g-acc: 0.9978 - d-loss:: 0.5644 - d-acc:: 0.6795\n",
            "Epoch is 58\n",
            "83/83 [==============================] - 98s 1s/step - g-loss:: 0.2130 - g-acc: 0.9795 - d-loss:: 0.6040 - d-acc:: 0.6369\n",
            "Epoch is 59\n",
            "83/83 [==============================] - 99s 1s/step - g-loss:: 0.1560 - g-acc: 0.9841 - d-loss:: 0.5377 - d-acc:: 0.7045\n",
            "Epoch is 60\n",
            "83/83 [==============================] - 99s 1s/step - g-loss:: 0.1531 - g-acc: 0.9878 - d-loss:: 0.5843 - d-acc:: 0.6616\n",
            "Epoch is 61\n",
            "83/83 [==============================] - 99s 1s/step - g-loss:: 0.1556 - g-acc: 0.9904 - d-loss:: 0.5860 - d-acc:: 0.6691\n",
            "Epoch is 62\n",
            "83/83 [==============================] - 99s 1s/step - g-loss:: 0.2143 - g-acc: 0.9778 - d-loss:: 0.6277 - d-acc:: 0.6184\n",
            "Epoch is 63\n",
            "83/83 [==============================] - 99s 1s/step - g-loss:: 0.2687 - g-acc: 0.9550 - d-loss:: 0.6371 - d-acc:: 0.6055\n",
            "Epoch is 64\n",
            "83/83 [==============================] - 99s 1s/step - g-loss:: 0.2611 - g-acc: 0.9542 - d-loss:: 0.6540 - d-acc:: 0.5946\n",
            "Epoch is 65\n",
            "83/83 [==============================] - 99s 1s/step - g-loss:: 0.2214 - g-acc: 0.9763 - d-loss:: 0.6246 - d-acc:: 0.6179\n",
            "Epoch is 66\n",
            "83/83 [==============================] - 99s 1s/step - g-loss:: 0.2419 - g-acc: 0.9785 - d-loss:: 0.6279 - d-acc:: 0.6170\n",
            "Epoch is 67\n",
            "83/83 [==============================] - 99s 1s/step - g-loss:: 0.1865 - g-acc: 0.9773 - d-loss:: 0.5745 - d-acc:: 0.6721\n",
            "Epoch is 68\n",
            "83/83 [==============================] - 99s 1s/step - g-loss:: 0.1895 - g-acc: 0.9848 - d-loss:: 0.5816 - d-acc:: 0.6566\n",
            "Epoch is 69\n",
            "83/83 [==============================] - 99s 1s/step - g-loss:: 0.3086 - g-acc: 0.9182 - d-loss:: 0.6498 - d-acc:: 0.6027\n",
            "Epoch is 70\n",
            "83/83 [==============================] - 99s 1s/step - g-loss:: 0.2432 - g-acc: 0.9593 - d-loss:: 0.6277 - d-acc:: 0.6203\n",
            "Epoch is 71\n",
            "83/83 [==============================] - 98s 1s/step - g-loss:: 0.2338 - g-acc: 0.9601 - d-loss:: 0.6295 - d-acc:: 0.6345\n",
            "Epoch is 72\n",
            "83/83 [==============================] - 99s 1s/step - g-loss:: 0.2441 - g-acc: 0.9711 - d-loss:: 0.6371 - d-acc:: 0.6073\n",
            "Epoch is 73\n",
            "83/83 [==============================] - 98s 1s/step - g-loss:: 0.2064 - g-acc: 0.9883 - d-loss:: 0.5957 - d-acc:: 0.6377\n",
            "Epoch is 74\n",
            "83/83 [==============================] - 98s 1s/step - g-loss:: 0.1051 - g-acc: 0.9992 - d-loss:: 0.4936 - d-acc:: 0.7393\n",
            "Epoch is 75\n",
            "83/83 [==============================] - 99s 1s/step - g-loss:: 0.1769 - g-acc: 0.9834 - d-loss:: 0.6105 - d-acc:: 0.6431\n",
            "Epoch is 76\n",
            "83/83 [==============================] - 98s 1s/step - g-loss:: 0.2386 - g-acc: 0.9665 - d-loss:: 0.6181 - d-acc:: 0.6230\n",
            "Epoch is 77\n",
            "83/83 [==============================] - 98s 1s/step - g-loss:: 0.1643 - g-acc: 0.9922 - d-loss:: 0.5867 - d-acc:: 0.6565\n",
            "Epoch is 78\n",
            "83/83 [==============================] - 99s 1s/step - g-loss:: 0.2462 - g-acc: 0.9712 - d-loss:: 0.6310 - d-acc:: 0.6160\n",
            "Epoch is 79\n",
            "83/83 [==============================] - 98s 1s/step - g-loss:: 0.1556 - g-acc: 0.9881 - d-loss:: 0.5565 - d-acc:: 0.6872\n",
            "Epoch is 80\n",
            "83/83 [==============================] - 98s 1s/step - g-loss:: 0.1956 - g-acc: 0.9874 - d-loss:: 0.6118 - d-acc:: 0.6404\n",
            "Epoch is 81\n",
            "83/83 [==============================] - 99s 1s/step - g-loss:: 0.2041 - g-acc: 0.9879 - d-loss:: 0.6354 - d-acc:: 0.6218\n",
            "Epoch is 82\n",
            "83/83 [==============================] - 98s 1s/step - g-loss:: 0.2112 - g-acc: 0.9830 - d-loss:: 0.6282 - d-acc:: 0.6227\n",
            "Epoch is 83\n",
            "83/83 [==============================] - 98s 1s/step - g-loss:: 0.2134 - g-acc: 0.9688 - d-loss:: 0.6172 - d-acc:: 0.6401\n",
            "Epoch is 84\n",
            "83/83 [==============================] - 99s 1s/step - g-loss:: 0.1490 - g-acc: 0.9934 - d-loss:: 0.5410 - d-acc:: 0.7034\n",
            "Epoch is 85\n",
            "83/83 [==============================] - 99s 1s/step - g-loss:: 0.2176 - g-acc: 0.9543 - d-loss:: 0.6208 - d-acc:: 0.6424\n",
            "Epoch is 86\n",
            "83/83 [==============================] - 98s 1s/step - g-loss:: 0.2144 - g-acc: 0.9644 - d-loss:: 0.5822 - d-acc:: 0.6686\n",
            "Epoch is 87\n",
            "83/83 [==============================] - 99s 1s/step - g-loss:: 0.1214 - g-acc: 0.9947 - d-loss:: 0.5315 - d-acc:: 0.7136\n",
            "Epoch is 88\n",
            "83/83 [==============================] - 98s 1s/step - g-loss:: 0.3515 - g-acc: 0.8665 - d-loss:: 0.6822 - d-acc:: 0.5791\n",
            "Epoch is 89\n",
            "83/83 [==============================] - 98s 1s/step - g-loss:: 0.2037 - g-acc: 0.9737 - d-loss:: 0.6101 - d-acc:: 0.6479\n",
            "Epoch is 90\n",
            "83/83 [==============================] - 99s 1s/step - g-loss:: 0.2115 - g-acc: 0.9819 - d-loss:: 0.6195 - d-acc:: 0.6418\n",
            "Epoch is 91\n",
            "83/83 [==============================] - 98s 1s/step - g-loss:: 0.2114 - g-acc: 0.9785 - d-loss:: 0.6203 - d-acc:: 0.6358\n",
            "Epoch is 92\n",
            "83/83 [==============================] - 99s 1s/step - g-loss:: 0.2635 - g-acc: 0.9583 - d-loss:: 0.6371 - d-acc:: 0.6173\n",
            "Epoch is 93\n",
            "83/83 [==============================] - 99s 1s/step - g-loss:: 0.2006 - g-acc: 0.9831 - d-loss:: 0.5630 - d-acc:: 0.6773\n",
            "Epoch is 94\n",
            "83/83 [==============================] - 98s 1s/step - g-loss:: 0.1126 - g-acc: 0.9825 - d-loss:: 0.4630 - d-acc:: 0.7746\n",
            "Epoch is 95\n",
            " 3/83 [>.............................] - ETA: 1:35 - g-loss:: 0.1482 - g-acc: 0.9948 - d-loss:: 0.4872 - d-acc:: 0.7669"
          ],
          "name": "stdout"
        }
      ]
    },
    {
      "cell_type": "markdown",
      "metadata": {
        "id": "VzmQ6vnF8bmw",
        "colab_type": "text"
      },
      "source": [
        "## Anamoly Detection, Approach - 1"
      ]
    },
    {
      "cell_type": "code",
      "metadata": {
        "id": "HhIzmfdfH7_T",
        "colab_type": "code",
        "colab": {}
      },
      "source": [
        "def anomaly_detection(test_img, g=None, d=None):\n",
        "    model = anomaly_detector(g=g, d=d)\n",
        "    ano_score, similar_img = compute_anomaly_score(model, test_img.reshape(1, 256, 256, 1), iterations=500, d=d)\n",
        "\n",
        "    # anomaly area, 255 normalization\n",
        "    np_residual = test_img.reshape(256,256,1) - similar_img.reshape(256,256,1)\n",
        "    np_residual = (np_residual + 2)/4\n",
        "\n",
        "    np_residual = (255*np_residual).astype(np.uint8)\n",
        "    original_x = (test_img.reshape(256,256,1)*127.5+127.5).astype(np.uint8)\n",
        "    similar_x = (similar_img.reshape(256,256,1)*127.5+127.5).astype(np.uint8)\n",
        "\n",
        "    original_x_color = cv2.cvtColor(original_x, cv2.COLOR_GRAY2BGR)\n",
        "    residual_color = cv2.applyColorMap(np_residual, cv2.COLORMAP_JET)\n",
        "    show = cv2.addWeighted(original_x_color, 0.3, residual_color, 0.7, 0.)\n",
        "\n",
        "    return ano_score, original_x, similar_x, show\n"
      ],
      "execution_count": 0,
      "outputs": []
    },
    {
      "cell_type": "code",
      "metadata": {
        "id": "ebKDYKJE0_tj",
        "colab_type": "code",
        "outputId": "6587fec5-546c-4dd6-8d0d-ca1e6d50dba0",
        "colab": {
          "base_uri": "https://localhost:8080/",
          "height": 102
        }
      },
      "source": [
        "#test_image_batch = (natural_validation_generator.next()[0:5].astype(np.float32) - 127.5) / 127.5\n",
        "#for image in test_image_batch:\n",
        "#    img_idx = 0\n",
        "#    start = cv2.getTickCount()\n",
        "#    score, qurey, pred, diff = anomaly_detection(image, Model_g, Model_d)\n",
        "#    time = (cv2.getTickCount() - start) / cv2.getTickFrequency() * 1000\n",
        "#    print ('techno image: %d : done'%( img_idx), 'Score: %.2f'%score, 'Time:%.2fms'%time)\n"
      ],
      "execution_count": 0,
      "outputs": [
        {
          "output_type": "stream",
          "text": [
            "techno image: 0 : done Score: 12296.56 Time:9583.61ms\n",
            "techno image: 0 : done Score: 21023.97 Time:9535.10ms\n",
            "techno image: 0 : done Score: 18588.28 Time:9842.25ms\n",
            "techno image: 0 : done Score: 15228.32 Time:10356.36ms\n",
            "techno image: 0 : done Score: 19894.46 Time:10160.00ms\n"
          ],
          "name": "stdout"
        }
      ]
    },
    {
      "cell_type": "code",
      "metadata": {
        "id": "WJbOo8WvRyiu",
        "colab_type": "code",
        "outputId": "de832ed1-0843-47bb-d3ca-3ab4c2c6030b",
        "colab": {
          "base_uri": "https://localhost:8080/",
          "height": 102
        }
      },
      "source": [
        "#test_image_batch = (techno_validation_generator.next()[0:5].astype(np.float32) - 127.5) / 127.5\n",
        "#for image in test_image_batch:\n",
        "#    img_idx = 0\n",
        "#    start = cv2.getTickCount()\n",
        "#    score, qurey, pred, diff = anomaly_detection(image, Model_g, Model_d)\n",
        "#    time = (cv2.getTickCount() - start) / cv2.getTickFrequency() * 1000\n",
        "#    print ('techno image: %d : done'%( img_idx), 'Score: %.2f'%score, 'Time:%.2fms'%time)\n"
      ],
      "execution_count": 0,
      "outputs": [
        {
          "output_type": "stream",
          "text": [
            "techno image: 0 : done Score: 23380.92 Time:8456.15ms\n",
            "techno image: 0 : done Score: 12817.43 Time:8430.62ms\n",
            "techno image: 0 : done Score: 53128.41 Time:8832.68ms\n",
            "techno image: 0 : done Score: 8442.28 Time:9100.25ms\n",
            "techno image: 0 : done Score: 22049.61 Time:9794.49ms\n"
          ],
          "name": "stdout"
        }
      ]
    },
    {
      "cell_type": "code",
      "metadata": {
        "id": "u-xYDNGBo8MR",
        "colab_type": "code",
        "outputId": "55166806-bdba-4ab5-87f7-a7c7189b4c16",
        "colab": {
          "base_uri": "https://localhost:8080/",
          "height": 34
        }
      },
      "source": [
        "#test_image_batch.shape"
      ],
      "execution_count": 0,
      "outputs": [
        {
          "output_type": "execute_result",
          "data": {
            "text/plain": [
              "(5, 256, 256, 1)"
            ]
          },
          "metadata": {
            "tags": []
          },
          "execution_count": 65
        }
      ]
    },
    {
      "cell_type": "code",
      "metadata": {
        "id": "rG_6BKA711mj",
        "colab_type": "code",
        "colab": {}
      },
      "source": [
        "#import matplotlib.pyplot as plt\n",
        "#%matplotlib inline\n",
        "#\n",
        "#plt.figure(1, figsize=(3, 3))\n",
        "#plt.title('query image')\n",
        "#plt.imshow(qurey.reshape(64,64), cmap=plt.cm.gray)\n",
        "#\n",
        "#print(\"anomaly score : \", score)\n",
        "#plt.figure(2, figsize=(3, 3))\n",
        "#plt.title('generated similar image')\n",
        "#plt.imshow(pred.reshape(64,64), cmap=plt.cm.gray)\n",
        "#\n",
        "#plt.figure(3, figsize=(3, 3))\n",
        "#plt.title('anomaly detection')\n",
        "#plt.imshow(cv2.cvtColor(diff,cv2.COLOR_BGR2RGB))\n",
        "#plt.show()\n"
      ],
      "execution_count": 0,
      "outputs": []
    },
    {
      "cell_type": "markdown",
      "metadata": {
        "id": "eRVY5YoM8h4h",
        "colab_type": "text"
      },
      "source": [
        "## Anamoly Detection, Approach - 2"
      ]
    },
    {
      "cell_type": "code",
      "metadata": {
        "id": "VkpcSQbO6YCC",
        "colab_type": "code",
        "colab": {}
      },
      "source": [
        "from sklearn.metrics import confusion_matrix\n",
        "\n",
        "def detect_defects(discriminator_model, validation_generator, threshold=0.5, verbose=1):\n",
        "\n",
        "        total_samples = validation_generator.samples\n",
        "        batch_size = validation_generator.batch_size\n",
        "\n",
        "        results = list()\n",
        "        labels = list()\n",
        "\n",
        "        if (verbose != 0):\n",
        "            progress_bar = Progbar(target=total_samples)\n",
        "\n",
        "        for _ in range(np.ceil(total_samples / batch_size).astype(np.int32)):\n",
        "\n",
        "            image_batch, lbls = validation_generator.next()\n",
        "\n",
        "            labels = np.append(labels, lbls.reshape(lbls.shape[0]))\n",
        "            image_batch = (image_batch.astype(np.float32) - 127.5) / 127.5\n",
        "\n",
        "            tmp_rslt = discriminator_model.predict(\n",
        "                x=image_batch,\n",
        "                batch_size=image_batch.shape[0],\n",
        "                verbose=0\n",
        "            )\n",
        "\n",
        "            if (verbose != 0):\n",
        "                progress_bar.add(image_batch.shape[0])\n",
        "\n",
        "            results = np.append(results, tmp_rslt.reshape(tmp_rslt.shape[0]))\n",
        "\n",
        "        results = [1 if x >= threshold else 0 for x in results]\n",
        "\n",
        "        tn, fp, fn, tp = confusion_matrix(labels, results).ravel()\n",
        "        print(\"tn:\", tn, \"fp:\", fp, \"fn:\", fn, \"tp:\", tp)\n",
        "\n",
        "        #################### NON DEFECT SITUATIONS ####################\n",
        "\n",
        "        # Probability of Detecting a Non-Defect: (tp / (tp + fn))\n",
        "        if ((tp + fn) != 0):\n",
        "            recall = tp / (tp + fn)\n",
        "        else:\n",
        "            recall = 0.0\n",
        "\n",
        "        # Probability of Correctly Detecting a Non-Defect: (tp / (tp + fp))\n",
        "\n",
        "        if ((tp + fp) != 0):\n",
        "            precision = tp / (tp + fp)\n",
        "        else:\n",
        "            precision = 0.0\n",
        "\n",
        "        ###################### DEFECT SITUATIONS ######################\n",
        "\n",
        "        # Probability of Detecting a Defect: (tn / (tn + fp))\n",
        "        if ((tn + fp) != 0):\n",
        "            specificity = tn / (tn + fp)\n",
        "        else:\n",
        "            specificity = 0.0\n",
        "\n",
        "        # Probability of Correctly Detecting a Defect: (tn / (tn + fn))\n",
        "        if ((tn + fn) != 0):\n",
        "            negative_predictive_value = tn / (tn + fn)\n",
        "        else:\n",
        "            negative_predictive_value = 0.0\n",
        "\n",
        "        return precision, recall, specificity, negative_predictive_value\n"
      ],
      "execution_count": 0,
      "outputs": []
    },
    {
      "cell_type": "code",
      "metadata": {
        "id": "pyqL-Qn768b6",
        "colab_type": "code",
        "outputId": "52047804-96f3-4d8d-f2a9-2b5b0f3cdae0",
        "colab": {
          "base_uri": "https://localhost:8080/",
          "height": 255
        }
      },
      "source": [
        "# this is a similar generator, for validation data\n",
        "test_datagen = ImageDataGenerator()\n",
        "\n",
        "validation_generator = test_datagen.flow_from_directory(\n",
        "    directory   = validation_directory,     # this is the target directory\n",
        "    target_size = (128, 128, 1)[:-1],         # all images will be resized to 64x64\n",
        "    batch_size  = 64,\n",
        "    color_mode  = \"grayscale\",              # We use a grayscale dataset\n",
        "    classes     = [\"natural\", \"techno\"],        # {'docs': 0, 'other': 1} => Needs to be enforced\n",
        "    class_mode  = 'binary'                  # We want to have binary labels for validation\n",
        ")\n",
        "\n",
        "\n",
        "#predict\n",
        "d = load_discriminator_model()\n",
        "precision, recall, specificity, negative_predictive_value = detect_defects(d, validation_generator,threshold=0.3)\n",
        "\n",
        "print(\"Probability of Detecting a Non-Defect             => Recall      (tp / (tp + fn)):\", recall)\n",
        "print(\"Probability of Correctly Detecting a Non-Defect   => Precision   (tp / (tp + fp)):\", precision)\n",
        "print(\"Probability of Detecting a Defect                 => Specificity (tn / (tn + fp)):\", specificity)\n",
        "print(\"Probability of Correctly Detecting a Defect       => NPV         (tn / (tn + fn)):\", negative_predictive_value)"
      ],
      "execution_count": 0,
      "outputs": [
        {
          "output_type": "stream",
          "text": [
            "W0617 01:14:52.342506 139634469906304 deprecation_wrapper.py:119] From /usr/local/lib/python3.6/dist-packages/keras/optimizers.py:790: The name tf.train.Optimizer is deprecated. Please use tf.compat.v1.train.Optimizer instead.\n",
            "\n"
          ],
          "name": "stderr"
        },
        {
          "output_type": "stream",
          "text": [
            "Found 114 images belonging to 2 classes.\n"
          ],
          "name": "stdout"
        },
        {
          "output_type": "stream",
          "text": [
            "W0617 01:14:52.356811 139634469906304 deprecation.py:323] From /usr/local/lib/python3.6/dist-packages/tensorflow/python/ops/nn_impl.py:180: add_dispatch_support.<locals>.wrapper (from tensorflow.python.ops.array_ops) is deprecated and will be removed in a future version.\n",
            "Instructions for updating:\n",
            "Use tf.where in 2.0, which has the same broadcast rule as np.where\n"
          ],
          "name": "stderr"
        },
        {
          "output_type": "stream",
          "text": [
            "114/114 [==============================] - 5s 45ms/step\n",
            "tn: 57 fp: 7 fn: 23 tp: 27\n",
            "Probability of Detecting a Non-Defect             => Recall      (tp / (tp + fn)): 0.54\n",
            "Probability of Correctly Detecting a Non-Defect   => Precision   (tp / (tp + fp)): 0.7941176470588235\n",
            "Probability of Detecting a Defect                 => Specificity (tn / (tn + fp)): 0.890625\n",
            "Probability of Correctly Detecting a Defect       => NPV         (tn / (tn + fn)): 0.7125\n"
          ],
          "name": "stdout"
        }
      ]
    },
    {
      "cell_type": "code",
      "metadata": {
        "id": "CGVdexRGL8OJ",
        "colab_type": "code",
        "outputId": "f59ef9c6-dce0-4028-ea0d-ac4ab283204e",
        "colab": {
          "base_uri": "https://localhost:8080/",
          "height": 35
        }
      },
      "source": [
        "validation_generator.class_indices"
      ],
      "execution_count": 0,
      "outputs": [
        {
          "output_type": "execute_result",
          "data": {
            "text/plain": [
              "{'natural': 1, 'techno': 0}"
            ]
          },
          "metadata": {
            "tags": []
          },
          "execution_count": 18
        }
      ]
    },
    {
      "cell_type": "code",
      "metadata": {
        "id": "f_lmz7AXNoOm",
        "colab_type": "code",
        "outputId": "7f920764-c960-47d4-fc3e-c502d7dcd2eb",
        "colab": {
          "base_uri": "https://localhost:8080/",
          "height": 926
        }
      },
      "source": [
        "from numpy import newaxis\n",
        "folder=validation_directory+\"techno\"\n",
        "\n",
        "technoPredictions = []\n",
        "for filename in os.listdir(folder):\n",
        "    img = cv2.imread(os.path.join(folder,filename),0)\n",
        "    img = cv2.resize(img,(128,128))\n",
        "    img = (img.astype(np.float32) - 127.5) / 127.5\n",
        "    im2 = np.array([img])\n",
        "    im2 = im2[:,:,:,newaxis]\n",
        "    #print(im2.shape)\n",
        "    tmp_rslt = d.predict(x=im2,\n",
        "                batch_size=1,\n",
        "                verbose=0\n",
        "            )\n",
        "    technoPredictions.append(tmp_rslt[0][0])\n",
        "    print(filename, tmp_rslt[0][0])\n",
        "    \n",
        "    "
      ],
      "execution_count": 0,
      "outputs": [
        {
          "output_type": "stream",
          "text": [
            "img_x_7552_y_22400.jpg 1.0\n",
            "img_x_6912_y_20608.jpg 0.9883857\n",
            "img_x_7296_y_22144.jpg 0.31642044\n",
            "img_x_15488_y_22528.jpg 0.9999914\n",
            "img_x_15616_y_22656.jpg 0.99998665\n",
            "img_x_7552_y_22144.jpg 1.0\n",
            "img_x_6528_y_19584.jpg 0.15875597\n",
            "img_x_6400_y_19584.jpg 0.20403388\n",
            "img_x_6656_y_19584.jpg 0.21504915\n",
            "img_x_7424_y_22272.jpg 1.0\n",
            "img_x_6656_y_19456.jpg 0.06714094\n",
            "img_x_7040_y_20480.jpg 0.9870509\n",
            "img_x_9728_y_21376.jpg 0.9757642\n",
            "img_x_6784_y_20736.jpg 0.1392769\n",
            "img_x_6528_y_19712.jpg 0.24852754\n",
            "img_x_6784_y_20480.jpg 0.13802381\n",
            "img_x_7552_y_22272.jpg 1.0\n",
            "img_x_9728_y_21504.jpg 0.92922115\n",
            "img_x_7040_y_20608.jpg 0.9585537\n",
            "img_x_7168_y_20480.jpg 0.6556935\n",
            "img_x_7296_y_22400.jpg 0.071307056\n",
            "img_x_15616_y_22528.jpg 0.9999937\n",
            "img_x_7296_y_20608.jpg 0.79291654\n",
            "img_x_15360_y_22656.jpg 0.063316256\n",
            "img_x_6784_y_20608.jpg 0.18692394\n",
            "img_x_7424_y_22144.jpg 1.0\n",
            "img_x_7680_y_22272.jpg 0.5158083\n",
            "img_x_9600_y_21504.jpg 0.8906618\n",
            "img_x_6656_y_19712.jpg 0.17712303\n",
            "img_x_15488_y_22656.jpg 0.99998844\n",
            "img_x_7168_y_20352.jpg 0.69118655\n",
            "img_x_6400_y_19712.jpg 0.42864797\n",
            "img_x_7168_y_20736.jpg 0.60555464\n",
            "img_x_7424_y_22400.jpg 1.0\n",
            "img_x_7168_y_20608.jpg 0.6852349\n",
            "img_x_9600_y_21376.jpg 0.94565016\n",
            "img_x_6912_y_20736.jpg 0.6344467\n",
            "img_x_6528_y_19456.jpg 0.065867215\n",
            "img_x_7296_y_20352.jpg 0.2427961\n",
            "img_x_6912_y_20352.jpg 0.5181704\n",
            "img_x_6784_y_20352.jpg 0.14773753\n",
            "img_x_7296_y_22272.jpg 0.029392548\n",
            "img_x_7680_y_22400.jpg 0.09613475\n",
            "img_x_7680_y_22144.jpg 0.35092196\n",
            "img_x_7040_y_20736.jpg 0.9690745\n",
            "img_x_7040_y_20352.jpg 0.64472204\n",
            "img_x_6912_y_20480.jpg 0.88757324\n",
            "img_x_7296_y_20736.jpg 0.66728276\n",
            "img_x_15360_y_22528.jpg 0.1101865\n",
            "img_x_7296_y_20480.jpg 0.8406859\n"
          ],
          "name": "stdout"
        }
      ]
    },
    {
      "cell_type": "code",
      "metadata": {
        "id": "H0-PAWnmnaBU",
        "colab_type": "code",
        "outputId": "1c4e0446-d770-42e0-fe97-34ed02a7d786",
        "colab": {
          "base_uri": "https://localhost:8080/",
          "height": 1181
        }
      },
      "source": [
        "from numpy import newaxis\n",
        "folder=validation_directory+\"natural\"\n",
        "\n",
        "naturalPredictions = []\n",
        "for filename in os.listdir(folder):\n",
        "    img = cv2.imread(os.path.join(folder,filename),0)\n",
        "    img = cv2.resize(img,(128,128))\n",
        "    img = (img.astype(np.float32) - 127.5) / 127.5\n",
        "    im2 = np.array([img])\n",
        "    im2 = im2[:,:,:,newaxis]\n",
        "    #print(im2.shape)\n",
        "    tmp_rslt = d.predict(x=im2,\n",
        "                batch_size=1,\n",
        "                verbose=0\n",
        "            )\n",
        "    naturalPredictions.append(tmp_rslt[0][0])\n",
        "    print(filename, tmp_rslt[0][0])"
      ],
      "execution_count": 0,
      "outputs": [
        {
          "output_type": "stream",
          "text": [
            "img_x_10752_y_17408.jpg 0.14697611\n",
            "img_x_11648_y_16896.jpg 0.19080912\n",
            "img_x_13568_y_7808.jpg 0.14173661\n",
            "img_x_14336_y_18688.jpg 0.22423638\n",
            "img_x_9472_y_29184.jpg 0.9882239\n",
            "img_x_10368_y_8960.jpg 0.20709567\n",
            "img_x_11648_y_21504.jpg 0.019217575\n",
            "img_x_14720_y_8448.jpg 0.3724327\n",
            "img_x_11520_y_9984.jpg 0.36900547\n",
            "img_x_14720_y_8192.jpg 0.074692704\n",
            "img_x_12288_y_13440.jpg 0.4571508\n",
            "img_x_10752_y_7552.jpg 0.26875517\n",
            "img_x_13824_y_17408.jpg 0.06876851\n",
            "img_x_9728_y_10880.jpg 0.1346322\n",
            "img_x_9856_y_18176.jpg 0.014412622\n",
            "img_x_9856_y_22016.jpg 0.13594581\n",
            "img_x_11648_y_9984.jpg 0.6636361\n",
            "img_x_10240_y_25344.jpg 0.27711833\n",
            "img_x_12672_y_18176.jpg 0.098404996\n",
            "img_x_14976_y_13184.jpg 0.059294216\n",
            "img_x_11264_y_29440.jpg 0.9999976\n",
            "img_x_9216_y_28544.jpg 0.3732963\n",
            "img_x_9472_y_9728.jpg 0.5726497\n",
            "img_x_9472_y_6784.jpg 0.14794983\n",
            "img_x_9600_y_9088.jpg 0.21641523\n",
            "img_x_12288_y_29824.jpg 0.9999727\n",
            "img_x_12032_y_18688.jpg 0.091706984\n",
            "img_x_8960_y_6144.jpg 0.08773631\n",
            "img_x_11776_y_13056.jpg 0.045334373\n",
            "img_x_9216_y_7424.jpg 0.30454227\n",
            "img_x_8064_y_10240.jpg 0.20983566\n",
            "img_x_8832_y_18688.jpg 0.011863927\n",
            "img_x_12160_y_13440.jpg 0.36512658\n",
            "img_x_8960_y_28032.jpg 0.14859019\n",
            "img_x_12800_y_17408.jpg 0.023274183\n",
            "img_x_11392_y_17792.jpg 0.15377447\n",
            "img_x_9728_y_10368.jpg 0.56292665\n",
            "img_x_8320_y_9984.jpg 0.07900329\n",
            "img_x_12032_y_7808.jpg 0.47170514\n",
            "img_x_11136_y_21888.jpg 0.3286\n",
            "img_x_11904_y_8192.jpg 0.24225633\n",
            "img_x_9984_y_25728.jpg 0.1899763\n",
            "img_x_11264_y_5248.jpg 0.25396875\n",
            "img_x_14720_y_5888.jpg 0.13787867\n",
            "img_x_8064_y_13184.jpg 0.07925973\n",
            "img_x_9600_y_20224.jpg 0.044926874\n",
            "img_x_9600_y_17024.jpg 0.13444531\n",
            "img_x_11648_y_10368.jpg 0.050922308\n",
            "img_x_10752_y_6784.jpg 0.44476157\n",
            "img_x_9216_y_25984.jpg 0.14460796\n",
            "img_x_14592_y_19456.jpg 0.30598563\n",
            "img_x_11392_y_13696.jpg 0.23397698\n",
            "img_x_9856_y_20736.jpg 0.5714079\n",
            "img_x_11520_y_7680.jpg 0.15653525\n",
            "img_x_12032_y_22144.jpg 0.09517314\n",
            "img_x_12544_y_5248.jpg 0.16616157\n",
            "img_x_12160_y_22272.jpg 0.2805331\n",
            "img_x_8576_y_8960.jpg 0.2444867\n",
            "img_x_11648_y_27520.jpg 0.6211655\n",
            "img_x_8192_y_29824.jpg 0.32684308\n",
            "img_x_9984_y_7424.jpg 0.14255606\n",
            "img_x_13440_y_18688.jpg 0.0108824\n",
            "img_x_10240_y_26240.jpg 0.088054284\n",
            "img_x_12416_y_7808.jpg 0.15235864\n"
          ],
          "name": "stdout"
        }
      ]
    },
    {
      "cell_type": "code",
      "metadata": {
        "id": "AjklyXcJ8JA4",
        "colab_type": "code",
        "outputId": "932ea21c-f65d-4444-d78d-d769c2bd9364",
        "colab": {
          "base_uri": "https://localhost:8080/",
          "height": 287
        }
      },
      "source": [
        "import pandas as pd\n",
        "df = pd.DataFrame({'natural':naturalPredictions[:50],'techno':technoPredictions})\n",
        "df.boxplot(column=['natural','techno'])"
      ],
      "execution_count": 0,
      "outputs": [
        {
          "output_type": "execute_result",
          "data": {
            "text/plain": [
              "<matplotlib.axes._subplots.AxesSubplot at 0x7efe7140f4e0>"
            ]
          },
          "metadata": {
            "tags": []
          },
          "execution_count": 13
        },
        {
          "output_type": "display_data",
          "data": {
            "image/png": "[encoded data removed]",
            "text/plain": [
              "<Figure size 432x288 with 1 Axes>"
            ]
          },
          "metadata": {
            "tags": []
          }
        }
      ]
    },
    {
      "cell_type": "code",
      "metadata": {
        "id": "Z4qg-84mQgCh",
        "colab_type": "code",
        "outputId": "7263500d-39fe-476f-d46c-b5df4051273e",
        "colab": {
          "base_uri": "https://localhost:8080/",
          "height": 35
        }
      },
      "source": [
        ""
      ],
      "execution_count": 0,
      "outputs": [
        {
          "output_type": "execute_result",
          "data": {
            "text/plain": [
              "('img_x_10752_y_17408.jpg', 0.012893274)"
            ]
          },
          "metadata": {
            "tags": []
          },
          "execution_count": 57
        }
      ]
    },
    {
      "cell_type": "code",
      "metadata": {
        "id": "CVLE89me9bMn",
        "colab_type": "code",
        "outputId": "1926a827-0c5a-4300-fd43-b55b5f1b489e",
        "colab": {
          "base_uri": "https://localhost:8080/",
          "height": 335
        }
      },
      "source": [
        "df.hist()"
      ],
      "execution_count": 0,
      "outputs": [
        {
          "output_type": "execute_result",
          "data": {
            "text/plain": [
              "array([[<matplotlib.axes._subplots.AxesSubplot object at 0x7efe713449e8>,\n",
              "        <matplotlib.axes._subplots.AxesSubplot object at 0x7efe713029e8>]],\n",
              "      dtype=object)"
            ]
          },
          "metadata": {
            "tags": []
          },
          "execution_count": 14
        },
        {
          "output_type": "display_data",
          "data": {
            "image/png": "[encoded data removed]",
            "text/plain": [
              "<Figure size 432x288 with 2 Axes>"
            ]
          },
          "metadata": {
            "tags": []
          }
        }
      ]
    },
    {
      "cell_type": "code",
      "metadata": {
        "id": "-NiBbTrnBRMS",
        "colab_type": "code",
        "colab": {}
      },
      "source": [
        ""
      ],
      "execution_count": 0,
      "outputs": []
    }
  ]
}